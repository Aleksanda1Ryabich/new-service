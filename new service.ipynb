{
 "cells": [
  {
   "cell_type": "markdown",
   "metadata": {
    "toc": true
   },
   "source": [
    "<h1>Содержание<span class=\"tocSkip\"></span></h1>\n",
    "<div class=\"toc\"><ul class=\"toc-item\"><li><span><a href=\"#Подготовка\" data-toc-modified-id=\"Подготовка-1\"><span class=\"toc-item-num\">1&nbsp;&nbsp;</span>Подготовка</a></span></li><li><span><a href=\"#Обучение\" data-toc-modified-id=\"Обучение-2\"><span class=\"toc-item-num\">2&nbsp;&nbsp;</span>Обучение</a></span><ul class=\"toc-item\"><li><span><a href=\"#LogisticRegression\" data-toc-modified-id=\"LogisticRegression-2.1\"><span class=\"toc-item-num\">2.1&nbsp;&nbsp;</span>LogisticRegression</a></span></li><li><span><a href=\"#DecisionTreeClassifier\" data-toc-modified-id=\"DecisionTreeClassifier-2.2\"><span class=\"toc-item-num\">2.2&nbsp;&nbsp;</span>DecisionTreeClassifier</a></span></li><li><span><a href=\"#CatBoostClassifier\" data-toc-modified-id=\"CatBoostClassifier-2.3\"><span class=\"toc-item-num\">2.3&nbsp;&nbsp;</span>CatBoostClassifier</a></span></li><li><span><a href=\"#RandomForestClassifier\" data-toc-modified-id=\"RandomForestClassifier-2.4\"><span class=\"toc-item-num\">2.4&nbsp;&nbsp;</span>RandomForestClassifier</a></span></li><li><span><a href=\"#SGDClassifier\" data-toc-modified-id=\"SGDClassifier-2.5\"><span class=\"toc-item-num\">2.5&nbsp;&nbsp;</span>SGDClassifier</a></span></li></ul></li><li><span><a href=\"#Выводы\" data-toc-modified-id=\"Выводы-3\"><span class=\"toc-item-num\">3&nbsp;&nbsp;</span>Выводы</a></span></li><li><span><a href=\"#Чек-лист-проверки\" data-toc-modified-id=\"Чек-лист-проверки-4\"><span class=\"toc-item-num\">4&nbsp;&nbsp;</span>Чек-лист проверки</a></span></li></ul></div>"
   ]
  },
  {
   "cell_type": "markdown",
   "metadata": {},
   "source": [
    "# Проект для «Викишоп»"
   ]
  },
  {
   "cell_type": "markdown",
   "metadata": {},
   "source": [
    "Интернет-магазин «Викишоп» запускает новый сервис. Теперь пользователи могут редактировать и дополнять описания товаров, как в вики-сообществах. То есть клиенты предлагают свои правки и комментируют изменения других. Магазину нужен инструмент, который будет искать токсичные комментарии и отправлять их на модерацию. \n",
    "\n",
    "Обучите модель классифицировать комментарии на позитивные и негативные. В вашем распоряжении набор данных с разметкой о токсичности правок.\n",
    "\n",
    "Постройте модель со значением метрики качества *F1* не меньше 0.75. \n",
    "\n",
    "**Инструкция по выполнению проекта**\n",
    "\n",
    "1. Загрузите и подготовьте данные.\n",
    "2. Обучите разные модели. \n",
    "3. Сделайте выводы.\n",
    "\n",
    "Для выполнения проекта применять *BERT* необязательно, но вы можете попробовать.\n",
    "\n",
    "**Описание данных**\n",
    "\n",
    "Данные находятся в файле `toxic_comments.csv`. Столбец *text* в нём содержит текст комментария, а *toxic* — целевой признак."
   ]
  },
  {
   "cell_type": "markdown",
   "metadata": {},
   "source": [
    "## Подготовка"
   ]
  },
  {
   "cell_type": "code",
   "execution_count": 1,
   "metadata": {},
   "outputs": [],
   "source": [
    "import numpy as np\n",
    "import pandas as pd\n",
    "\n",
    "import re\n",
    "\n",
    "import nltk\n",
    "\n",
    "from nltk.corpus import stopwords as nltk_stopwords\n",
    "from nltk.corpus import wordnet\n",
    "from nltk.stem import WordNetLemmatizer\n",
    "\n",
    "from sklearn.pipeline import Pipeline\n",
    "from sklearn.feature_extraction.text import TfidfVectorizer\n",
    "from sklearn.model_selection import train_test_split, cross_val_score, GridSearchCV\n",
    "\n",
    "from sklearn.linear_model import LogisticRegression, SGDClassifier\n",
    "from sklearn.tree import DecisionTreeClassifier\n",
    "from sklearn.ensemble import RandomForestClassifier\n",
    "\n",
    "from sklearn.metrics import f1_score\n",
    "\n",
    "from sklearn.utils import shuffle\n",
    "\n",
    "from catboost import CatBoostClassifier\n",
    "\n",
    "import warnings\n",
    "warnings.filterwarnings('ignore')\n"
   ]
  },
  {
   "cell_type": "code",
   "execution_count": 2,
   "metadata": {},
   "outputs": [
    {
     "data": {
      "text/html": [
       "<div>\n",
       "<style scoped>\n",
       "    .dataframe tbody tr th:only-of-type {\n",
       "        vertical-align: middle;\n",
       "    }\n",
       "\n",
       "    .dataframe tbody tr th {\n",
       "        vertical-align: top;\n",
       "    }\n",
       "\n",
       "    .dataframe thead th {\n",
       "        text-align: right;\n",
       "    }\n",
       "</style>\n",
       "<table border=\"1\" class=\"dataframe\">\n",
       "  <thead>\n",
       "    <tr style=\"text-align: right;\">\n",
       "      <th></th>\n",
       "      <th>Unnamed: 0</th>\n",
       "      <th>text</th>\n",
       "      <th>toxic</th>\n",
       "    </tr>\n",
       "  </thead>\n",
       "  <tbody>\n",
       "    <tr>\n",
       "      <th>0</th>\n",
       "      <td>0</td>\n",
       "      <td>Explanation\\nWhy the edits made under my usern...</td>\n",
       "      <td>0</td>\n",
       "    </tr>\n",
       "    <tr>\n",
       "      <th>1</th>\n",
       "      <td>1</td>\n",
       "      <td>D'aww! He matches this background colour I'm s...</td>\n",
       "      <td>0</td>\n",
       "    </tr>\n",
       "    <tr>\n",
       "      <th>2</th>\n",
       "      <td>2</td>\n",
       "      <td>Hey man, I'm really not trying to edit war. It...</td>\n",
       "      <td>0</td>\n",
       "    </tr>\n",
       "    <tr>\n",
       "      <th>3</th>\n",
       "      <td>3</td>\n",
       "      <td>\"\\nMore\\nI can't make any real suggestions on ...</td>\n",
       "      <td>0</td>\n",
       "    </tr>\n",
       "    <tr>\n",
       "      <th>4</th>\n",
       "      <td>4</td>\n",
       "      <td>You, sir, are my hero. Any chance you remember...</td>\n",
       "      <td>0</td>\n",
       "    </tr>\n",
       "  </tbody>\n",
       "</table>\n",
       "</div>"
      ],
      "text/plain": [
       "   Unnamed: 0                                               text  toxic\n",
       "0           0  Explanation\\nWhy the edits made under my usern...      0\n",
       "1           1  D'aww! He matches this background colour I'm s...      0\n",
       "2           2  Hey man, I'm really not trying to edit war. It...      0\n",
       "3           3  \"\\nMore\\nI can't make any real suggestions on ...      0\n",
       "4           4  You, sir, are my hero. Any chance you remember...      0"
      ]
     },
     "execution_count": 2,
     "metadata": {},
     "output_type": "execute_result"
    }
   ],
   "source": [
    "comments = pd.read_csv('/datasets/toxic_comments.csv')\n",
    "comments.head()"
   ]
  },
  {
   "cell_type": "code",
   "execution_count": 3,
   "metadata": {},
   "outputs": [
    {
     "data": {
      "text/html": [
       "<div>\n",
       "<style scoped>\n",
       "    .dataframe tbody tr th:only-of-type {\n",
       "        vertical-align: middle;\n",
       "    }\n",
       "\n",
       "    .dataframe tbody tr th {\n",
       "        vertical-align: top;\n",
       "    }\n",
       "\n",
       "    .dataframe thead th {\n",
       "        text-align: right;\n",
       "    }\n",
       "</style>\n",
       "<table border=\"1\" class=\"dataframe\">\n",
       "  <thead>\n",
       "    <tr style=\"text-align: right;\">\n",
       "      <th></th>\n",
       "      <th>Unnamed: 0</th>\n",
       "      <th>text</th>\n",
       "      <th>toxic</th>\n",
       "    </tr>\n",
       "  </thead>\n",
       "  <tbody>\n",
       "    <tr>\n",
       "      <th>0</th>\n",
       "      <td>0</td>\n",
       "      <td>Explanation\\nWhy the edits made under my usern...</td>\n",
       "      <td>0</td>\n",
       "    </tr>\n",
       "    <tr>\n",
       "      <th>1</th>\n",
       "      <td>1</td>\n",
       "      <td>D'aww! He matches this background colour I'm s...</td>\n",
       "      <td>0</td>\n",
       "    </tr>\n",
       "    <tr>\n",
       "      <th>2</th>\n",
       "      <td>2</td>\n",
       "      <td>Hey man, I'm really not trying to edit war. It...</td>\n",
       "      <td>0</td>\n",
       "    </tr>\n",
       "    <tr>\n",
       "      <th>3</th>\n",
       "      <td>3</td>\n",
       "      <td>\"\\nMore\\nI can't make any real suggestions on ...</td>\n",
       "      <td>0</td>\n",
       "    </tr>\n",
       "    <tr>\n",
       "      <th>4</th>\n",
       "      <td>4</td>\n",
       "      <td>You, sir, are my hero. Any chance you remember...</td>\n",
       "      <td>0</td>\n",
       "    </tr>\n",
       "  </tbody>\n",
       "</table>\n",
       "</div>"
      ],
      "text/plain": [
       "   Unnamed: 0                                               text  toxic\n",
       "0           0  Explanation\\nWhy the edits made under my usern...      0\n",
       "1           1  D'aww! He matches this background colour I'm s...      0\n",
       "2           2  Hey man, I'm really not trying to edit war. It...      0\n",
       "3           3  \"\\nMore\\nI can't make any real suggestions on ...      0\n",
       "4           4  You, sir, are my hero. Any chance you remember...      0"
      ]
     },
     "metadata": {},
     "output_type": "display_data"
    },
    {
     "name": "stdout",
     "output_type": "stream",
     "text": [
      "-----------------------------------------------------------------\n",
      "<class 'pandas.core.frame.DataFrame'>\n",
      "RangeIndex: 159292 entries, 0 to 159291\n",
      "Data columns (total 3 columns):\n",
      " #   Column      Non-Null Count   Dtype \n",
      "---  ------      --------------   ----- \n",
      " 0   Unnamed: 0  159292 non-null  int64 \n",
      " 1   text        159292 non-null  object\n",
      " 2   toxic       159292 non-null  int64 \n",
      "dtypes: int64(2), object(1)\n",
      "memory usage: 3.6+ MB\n",
      "-----------------------------------------------------------------\n",
      "Дубликатов - 0\n",
      "-----------------------------------------------------------------\n",
      "Пропусков:\n"
     ]
    },
    {
     "data": {
      "text/plain": [
       "Unnamed: 0    0\n",
       "text          0\n",
       "toxic         0\n",
       "dtype: int64"
      ]
     },
     "metadata": {},
     "output_type": "display_data"
    },
    {
     "name": "stdout",
     "output_type": "stream",
     "text": [
      "-----------------------------------------------------------------\n",
      "Соотношение в целевом признаке:\n"
     ]
    },
    {
     "data": {
      "text/plain": [
       "0    0.898388\n",
       "1    0.101612\n",
       "Name: toxic, dtype: float64"
      ]
     },
     "metadata": {},
     "output_type": "display_data"
    }
   ],
   "source": [
    "display(comments.head(5))\n",
    "\n",
    "print('-----------------------------------------------------------------')\n",
    "comments.info()\n",
    "\n",
    "print('-----------------------------------------------------------------')\n",
    "\n",
    "print('Дубликатов -', comments.duplicated().sum())\n",
    "\n",
    "print('-----------------------------------------------------------------')\n",
    "\n",
    "print('Пропусков:')\n",
    "display(comments.isna().sum())\n",
    "\n",
    "print('-----------------------------------------------------------------')\n",
    "\n",
    "print('Соотношение в целевом признаке:')\n",
    "display(comments.toxic.value_counts(normalize=True))"
   ]
  },
  {
   "cell_type": "markdown",
   "metadata": {},
   "source": [
    "В таблице 159 292 объектов. Пропусков нет, явных дубликатов нет\n",
    "Тексты комментариев на английском, есть лишние знаки типа \"\\nMore\\n\n",
    "В целевом признаке 90% объектов отрицательного класса, то есть в дальнейшем нужно будет учесть это\n",
    "Необходимо избавиться от столбца Unnamed, так как он фактически дублирует индексы"
   ]
  },
  {
   "cell_type": "code",
   "execution_count": 5,
   "metadata": {},
   "outputs": [],
   "source": [
    "#удаляю столбец Unnamed:\n",
    "comments = comments.drop(['Unnamed: 0'], axis=1)"
   ]
  },
  {
   "cell_type": "code",
   "execution_count": 6,
   "metadata": {},
   "outputs": [],
   "source": [
    "#ввожу функцию очищения текстов постов:\n",
    "def clear_text(text):\n",
    "    text = text.lower()\n",
    "    text = re.sub(r'[^a-zA-Z]', ' ', text)   \n",
    "    text = ' '.join(text.split())\n",
    "    return text"
   ]
  },
  {
   "cell_type": "code",
   "execution_count": 7,
   "metadata": {},
   "outputs": [
    {
     "name": "stdout",
     "output_type": "stream",
     "text": [
      "CPU times: user 5.17 s, sys: 26.1 ms, total: 5.19 s\n",
      "Wall time: 5.23 s\n"
     ]
    }
   ],
   "source": [
    "%%time\n",
    "#очищаю тексты постов:\n",
    "comments['text'] = comments['text'].apply(clear_text) "
   ]
  },
  {
   "cell_type": "code",
   "execution_count": 8,
   "metadata": {},
   "outputs": [
    {
     "data": {
      "text/html": [
       "<div>\n",
       "<style scoped>\n",
       "    .dataframe tbody tr th:only-of-type {\n",
       "        vertical-align: middle;\n",
       "    }\n",
       "\n",
       "    .dataframe tbody tr th {\n",
       "        vertical-align: top;\n",
       "    }\n",
       "\n",
       "    .dataframe thead th {\n",
       "        text-align: right;\n",
       "    }\n",
       "</style>\n",
       "<table border=\"1\" class=\"dataframe\">\n",
       "  <thead>\n",
       "    <tr style=\"text-align: right;\">\n",
       "      <th></th>\n",
       "      <th>text</th>\n",
       "      <th>toxic</th>\n",
       "    </tr>\n",
       "  </thead>\n",
       "  <tbody>\n",
       "    <tr>\n",
       "      <th>0</th>\n",
       "      <td>explanation why the edits made under my userna...</td>\n",
       "      <td>0</td>\n",
       "    </tr>\n",
       "    <tr>\n",
       "      <th>1</th>\n",
       "      <td>d aww he matches this background colour i m se...</td>\n",
       "      <td>0</td>\n",
       "    </tr>\n",
       "    <tr>\n",
       "      <th>2</th>\n",
       "      <td>hey man i m really not trying to edit war it s...</td>\n",
       "      <td>0</td>\n",
       "    </tr>\n",
       "    <tr>\n",
       "      <th>3</th>\n",
       "      <td>more i can t make any real suggestions on impr...</td>\n",
       "      <td>0</td>\n",
       "    </tr>\n",
       "    <tr>\n",
       "      <th>4</th>\n",
       "      <td>you sir are my hero any chance you remember wh...</td>\n",
       "      <td>0</td>\n",
       "    </tr>\n",
       "  </tbody>\n",
       "</table>\n",
       "</div>"
      ],
      "text/plain": [
       "                                                text  toxic\n",
       "0  explanation why the edits made under my userna...      0\n",
       "1  d aww he matches this background colour i m se...      0\n",
       "2  hey man i m really not trying to edit war it s...      0\n",
       "3  more i can t make any real suggestions on impr...      0\n",
       "4  you sir are my hero any chance you remember wh...      0"
      ]
     },
     "execution_count": 8,
     "metadata": {},
     "output_type": "execute_result"
    }
   ],
   "source": [
    "comments.head()"
   ]
  },
  {
   "cell_type": "code",
   "execution_count": 9,
   "metadata": {},
   "outputs": [],
   "source": [
    "#ввожу функцию РОS-тэгирования слов:\n",
    "def get_wordnet_pos(word):\n",
    "    tag = nltk.pos_tag([word])[0][1][0].upper()\n",
    "    tag_dict = {\"J\": wordnet.ADJ,               #прилагательное\n",
    "                \"N\": wordnet.NOUN,              #существительное\n",
    "                \"V\": wordnet.VERB,              #глагол\n",
    "                \"R\": wordnet.ADV                #наречие\n",
    "               }  \n",
    "    return tag_dict.get(tag, wordnet.NOUN)\n",
    "\n",
    "lemmatizer = WordNetLemmatizer()\n",
    "\n",
    "#ввожу функцию леммализации тектов постов:\n",
    "def lemm_text(text):\n",
    "    text = [lemmatizer.lemmatize(w, get_wordnet_pos(w)) for w in nltk.word_tokenize(text)]\n",
    "    return ' '.join(text)"
   ]
  },
  {
   "cell_type": "code",
   "execution_count": 10,
   "metadata": {},
   "outputs": [
    {
     "name": "stderr",
     "output_type": "stream",
     "text": [
      "[nltk_data] Downloading package averaged_perceptron_tagger to\n",
      "[nltk_data]     /home/jovyan/nltk_data...\n",
      "[nltk_data]   Package averaged_perceptron_tagger is already up-to-\n",
      "[nltk_data]       date!\n"
     ]
    },
    {
     "data": {
      "text/plain": [
       "True"
      ]
     },
     "execution_count": 10,
     "metadata": {},
     "output_type": "execute_result"
    }
   ],
   "source": [
    "import nltk\n",
    "nltk.download('averaged_perceptron_tagger')"
   ]
  },
  {
   "cell_type": "code",
   "execution_count": 11,
   "metadata": {},
   "outputs": [
    {
     "name": "stdout",
     "output_type": "stream",
     "text": [
      "CPU times: user 23min 29s, sys: 2min 5s, total: 25min 35s\n",
      "Wall time: 25min 47s\n"
     ]
    }
   ],
   "source": [
    "%%time\n",
    "\n",
    "#леммализирую тексты постов:\n",
    "comments['text'] = comments['text'].apply(lemm_text) "
   ]
  },
  {
   "cell_type": "code",
   "execution_count": 12,
   "metadata": {},
   "outputs": [
    {
     "data": {
      "text/html": [
       "<div>\n",
       "<style scoped>\n",
       "    .dataframe tbody tr th:only-of-type {\n",
       "        vertical-align: middle;\n",
       "    }\n",
       "\n",
       "    .dataframe tbody tr th {\n",
       "        vertical-align: top;\n",
       "    }\n",
       "\n",
       "    .dataframe thead th {\n",
       "        text-align: right;\n",
       "    }\n",
       "</style>\n",
       "<table border=\"1\" class=\"dataframe\">\n",
       "  <thead>\n",
       "    <tr style=\"text-align: right;\">\n",
       "      <th></th>\n",
       "      <th>text</th>\n",
       "      <th>toxic</th>\n",
       "    </tr>\n",
       "  </thead>\n",
       "  <tbody>\n",
       "    <tr>\n",
       "      <th>0</th>\n",
       "      <td>explanation why the edits make under my userna...</td>\n",
       "      <td>0</td>\n",
       "    </tr>\n",
       "    <tr>\n",
       "      <th>1</th>\n",
       "      <td>d aww he match this background colour i m seem...</td>\n",
       "      <td>0</td>\n",
       "    </tr>\n",
       "    <tr>\n",
       "      <th>2</th>\n",
       "      <td>hey man i m really not try to edit war it s ju...</td>\n",
       "      <td>0</td>\n",
       "    </tr>\n",
       "    <tr>\n",
       "      <th>3</th>\n",
       "      <td>more i can t make any real suggestion on impro...</td>\n",
       "      <td>0</td>\n",
       "    </tr>\n",
       "    <tr>\n",
       "      <th>4</th>\n",
       "      <td>you sir be my hero any chance you remember wha...</td>\n",
       "      <td>0</td>\n",
       "    </tr>\n",
       "  </tbody>\n",
       "</table>\n",
       "</div>"
      ],
      "text/plain": [
       "                                                text  toxic\n",
       "0  explanation why the edits make under my userna...      0\n",
       "1  d aww he match this background colour i m seem...      0\n",
       "2  hey man i m really not try to edit war it s ju...      0\n",
       "3  more i can t make any real suggestion on impro...      0\n",
       "4  you sir be my hero any chance you remember wha...      0"
      ]
     },
     "execution_count": 12,
     "metadata": {},
     "output_type": "execute_result"
    }
   ],
   "source": [
    "comments.head()"
   ]
  },
  {
   "cell_type": "code",
   "execution_count": 17,
   "metadata": {},
   "outputs": [],
   "source": [
    "#разделяю выборки в соотношении 80/10/10:\n",
    "features = comments.drop(['toxic'], axis=1) \n",
    "target = comments.toxic\n",
    "\n",
    "features_train, features_valid, target_train, target_valid = train_test_split(features, \n",
    "                                                                              target, \n",
    "                                                                              test_size=.2, \n",
    "                                                                              random_state=12345)\n",
    "\n",
    "features_valid, features_test, target_valid, target_test = train_test_split(features_valid, \n",
    "                                                                            target_valid, \n",
    "                                                                            test_size=.5,\n",
    "                                                                            random_state=12345)"
   ]
  },
  {
   "cell_type": "code",
   "execution_count": 18,
   "metadata": {},
   "outputs": [
    {
     "name": "stdout",
     "output_type": "stream",
     "text": [
      "(127433, 1)\n",
      "(127433,)\n",
      "(15929, 1)\n",
      "(15929,)\n",
      "(15930, 1)\n",
      "(15930,)\n"
     ]
    }
   ],
   "source": [
    "#смотрю размеры выборок:\n",
    "for i in [features_train, target_train, features_valid, target_valid, features_test, target_test]:\n",
    "    print(i.shape)"
   ]
  },
  {
   "cell_type": "code",
   "execution_count": 19,
   "metadata": {},
   "outputs": [
    {
     "name": "stdout",
     "output_type": "stream",
     "text": [
      "Доля значений 1 в тренировочной выборке: 0.10166911239631807\n"
     ]
    }
   ],
   "source": [
    "#смотрю соотношение 1/0 в выборках на примере target_train:\n",
    "indices_1 = [i for i,x in enumerate(target_train) if x == 1]\n",
    "count_1 = len(indices_1)\n",
    "\n",
    "indices_0 = [i for i,x in enumerate(target_train) if x == 0]\n",
    "count_0 = len(indices_0)\n",
    "\n",
    "print('Доля значений 1 в тренировочной выборке:', len(indices_1) / (len(indices_1) + len(indices_0)))"
   ]
  },
  {
   "cell_type": "code",
   "execution_count": 20,
   "metadata": {},
   "outputs": [
    {
     "name": "stdout",
     "output_type": "stream",
     "text": [
      "Соотношение 1/0 в тренировочной выборке:\n",
      "0    0.5\n",
      "1    0.5\n",
      "Name: toxic, dtype: float64\n",
      "\n",
      "(25912,)\n",
      "(25912,)\n"
     ]
    }
   ],
   "source": [
    "#уменьшаю кол-во 0 в выборках train:\n",
    "\n",
    "comments_train = comments.iloc[target_train.index]\n",
    "target_train_0 = comments_train[comments_train['toxic'] == 0]['toxic']\n",
    "target_train_1 = comments_train[comments_train['toxic'] == 1]['toxic']\n",
    "\n",
    "\n",
    "target_train_0_resample = target_train_0.sample(target_train_1.shape[0], random_state=12345)\n",
    "target_train_resample = pd.concat([target_train_0_resample, target_train_1])\n",
    "\n",
    "features_train_resample = comments.iloc[target_train_resample.index]\n",
    "\n",
    "features_train_resample, target_train_resample = shuffle(features_train_resample,\n",
    "                                                         target_train_resample,\n",
    "                                                         random_state=12345)\n",
    "\n",
    "features_train_resample = features_train_resample.text \n",
    "\n",
    "print('Соотношение 1/0 в тренировочной выборке:')\n",
    "print(target_train_resample.value_counts(normalize=True))\n",
    "print()\n",
    "print(features_train_resample.shape)\n",
    "print(target_train_resample.shape)"
   ]
  },
  {
   "cell_type": "markdown",
   "metadata": {},
   "source": [
    "Выводы по подготовка данных:\n",
    "При подготовке данных:\n",
    "- Удалила ненужный столбец\n",
    "- Очистила тексты комментариев от ненужных знаков, леммализировала, убрала стоп-слова\n",
    "- Сбалансировала данные в целевом признаке"
   ]
  },
  {
   "cell_type": "markdown",
   "metadata": {},
   "source": [
    "## Обучение"
   ]
  },
  {
   "cell_type": "markdown",
   "metadata": {},
   "source": [
    "### LogisticRegression"
   ]
  },
  {
   "cell_type": "code",
   "execution_count": 22,
   "metadata": {},
   "outputs": [],
   "source": [
    "features_train = features_train.text"
   ]
  },
  {
   "cell_type": "code",
   "execution_count": 23,
   "metadata": {},
   "outputs": [
    {
     "name": "stdout",
     "output_type": "stream",
     "text": [
      "F1 логистической регрессии = 0.76\n",
      "при параметрах {'lr__C': 5, 'lr__class_weight': 'balanced', 'lr__max_iter': 200, 'lr__random_state': 12345, 'lr__solver': 'lbfgs'}\n",
      "\n",
      "F1 логистической регрессии на валидации = 0.76\n",
      "\n",
      "финальный F1 логистической регрессии = 0.76\n",
      "CPU times: user 15min 34s, sys: 13min 37s, total: 29min 12s\n",
      "Wall time: 29min 25s\n"
     ]
    }
   ],
   "source": [
    "%%time\n",
    "\n",
    "#обучение:\n",
    "pipeline = Pipeline([(\"vect\", TfidfVectorizer(stop_words='english', sublinear_tf=True)), \n",
    "                     (\"lr\", LogisticRegression())])\n",
    "    \n",
    "parameters = {'lr__solver': ('liblinear', 'saga','newton-cg', 'lbfgs'),\n",
    "              'lr__C': (.1, 1, 5, 10),\n",
    "              'lr__random_state': ([12345]),\n",
    "              'lr__max_iter': ([200]),\n",
    "              'lr__class_weight': (['balanced'])} \n",
    "                                                  \n",
    "gscv = GridSearchCV(pipeline, parameters, scoring='f1', cv=3, n_jobs=-1)\n",
    "\n",
    "gscv.fit(features_train, target_train)\n",
    "\n",
    "mts = gscv.cv_results_['mean_test_score']\n",
    "lr_train_f1 = max(mts)\n",
    "\n",
    "print('F1 логистической регрессии =', round(lr_train_f1,2))\n",
    "print('при параметрах', gscv.best_params_)\n",
    "print()\n",
    "\n",
    "#валидация:\n",
    "predictions_valid = gscv.predict(features_valid.text)\n",
    "lr_valid_f1 = f1_score(target_valid, predictions_valid)\n",
    "print('F1 логистической регрессии на валидации =', round(lr_valid_f1,2))\n",
    "print()\n",
    "\n",
    "#тестирование:\n",
    "predictions_test = gscv.predict(features_test.text)\n",
    "lr_test_f1 = f1_score(target_test, predictions_test)\n",
    "print('финальный F1 логистической регрессии =', round(lr_test_f1,2))"
   ]
  },
  {
   "cell_type": "markdown",
   "metadata": {},
   "source": [
    "### DecisionTreeClassifier"
   ]
  },
  {
   "cell_type": "code",
   "execution_count": 24,
   "metadata": {},
   "outputs": [
    {
     "name": "stdout",
     "output_type": "stream",
     "text": [
      "F1 дерева решений = 0.71\n",
      "при параметрах {'dtc__class_weight': 'balanced', 'dtc__max_depth': 24, 'dtc__random_state': 12345}\n",
      "\n",
      "F1 дерева решений на валидации = 0.62\n",
      "\n",
      "финальный F1 дерева решений = 0.61\n",
      "CPU times: user 2min 31s, sys: 473 ms, total: 2min 31s\n",
      "Wall time: 2min 33s\n"
     ]
    }
   ],
   "source": [
    "%%time\n",
    "\n",
    "#обучение:\n",
    "pipeline = Pipeline([(\"vect\", TfidfVectorizer(stop_words='english')), \n",
    "                     (\"dtc\", DecisionTreeClassifier())])\n",
    "    \n",
    "parameters = {'dtc__max_depth': ([x for x in range(1, 25)]),\n",
    "              'dtc__random_state': ([12345]), \n",
    "              'dtc__class_weight': (['balanced'])}\n",
    "\n",
    "gscv = GridSearchCV(pipeline, parameters, scoring='f1', cv=3, n_jobs=-1)\n",
    "\n",
    "gscv.fit(features_train_resample, target_train_resample)\n",
    "\n",
    "mts = gscv.cv_results_['mean_test_score']\n",
    "dtc_train_f1 = max(mts)\n",
    "\n",
    "print('F1 дерева решений =', round(dtc_train_f1,2))\n",
    "print('при параметрах', gscv.best_params_)\n",
    "print()\n",
    "\n",
    "#валидация:\n",
    "predictions_valid = gscv.predict(features_valid.text)\n",
    "dtc_valid_f1 = f1_score(target_valid, predictions_valid)\n",
    "print('F1 дерева решений на валидации =', round(dtc_valid_f1,2))\n",
    "print()\n",
    "\n",
    "#тестирование:\n",
    "predictions_test = gscv.predict(features_test.text)\n",
    "dtc_test_f1 = f1_score(target_test, predictions_test)\n",
    "print('финальный F1 дерева решений =', round(dtc_test_f1,2))"
   ]
  },
  {
   "cell_type": "markdown",
   "metadata": {},
   "source": [
    "### CatBoostClassifier"
   ]
  },
  {
   "cell_type": "code",
   "execution_count": 25,
   "metadata": {},
   "outputs": [
    {
     "name": "stdout",
     "output_type": "stream",
     "text": [
      "F1 CatBoostClassifier = 0.87\n",
      "при параметрах {'cbc__class_weights': (1, 1), 'cbc__iterations': 200, 'cbc__verbose': False}\n",
      "\n",
      "F1 CatBoostClassifier на валидации = 0.72\n",
      "\n",
      "финальный F1 CatBoostClassifier = 0.72\n",
      "CPU times: user 11min 15s, sys: 5.51 s, total: 11min 21s\n",
      "Wall time: 11min 31s\n"
     ]
    }
   ],
   "source": [
    "%%time\n",
    "\n",
    "#обучение:\n",
    "pipeline = Pipeline([(\"vect\", TfidfVectorizer(stop_words='english')), \n",
    "                     (\"cbc\", CatBoostClassifier())])\n",
    "    \n",
    "parameters = {'cbc__verbose': ([False]),\n",
    "              'cbc__iterations': ([200]),\n",
    "              'cbc__class_weights':([(1, 1), (1, 11)])} \n",
    "\n",
    "gscv = GridSearchCV(pipeline, parameters, scoring='f1', cv=3, n_jobs=-1)\n",
    "\n",
    "gscv.fit(features_train_resample, target_train_resample)\n",
    "\n",
    "mts = gscv.cv_results_['mean_test_score']\n",
    "cbc_train_f1 = max(mts)\n",
    "\n",
    "print('F1 CatBoostClassifier =', round(cbc_train_f1,2))\n",
    "print('при параметрах', gscv.best_params_)\n",
    "print()\n",
    "\n",
    "#валидация:\n",
    "predictions_valid = gscv.predict(features_valid.text)\n",
    "cbc_valid_f1 = f1_score(target_valid, predictions_valid)\n",
    "print('F1 CatBoostClassifier на валидации =', round(cbc_valid_f1,2))\n",
    "print()\n",
    "\n",
    "#тестирование:\n",
    "predictions_test = gscv.predict(features_test.text)\n",
    "cbc_test_f1 = f1_score(target_test, predictions_test)\n",
    "print('финальный F1 CatBoostClassifier =', round(cbc_test_f1,2))"
   ]
  },
  {
   "cell_type": "markdown",
   "metadata": {},
   "source": [
    "### RandomForestClassifier"
   ]
  },
  {
   "cell_type": "code",
   "execution_count": 26,
   "metadata": {},
   "outputs": [
    {
     "name": "stdout",
     "output_type": "stream",
     "text": [
      "F1 случайного леса = 0.77\n",
      "при параметрах {'rfc__class_weight': 'balanced', 'rfc__criterion': 'entropy', 'rfc__max_depth': 9, 'rfc__n_estimators': 29, 'rfc__random_state': 12345}\n",
      "\n",
      "F1 случайного леса на валидации = 0.33\n",
      "\n",
      "финальный F1 случайного леса = 0.33\n",
      "CPU times: user 12min 48s, sys: 2.03 s, total: 12min 50s\n",
      "Wall time: 12min 56s\n"
     ]
    }
   ],
   "source": [
    "%%time\n",
    "\n",
    "#обучение:\n",
    "pipeline = Pipeline([(\"vect\", TfidfVectorizer(stop_words='english')), \n",
    "                     (\"rfc\", RandomForestClassifier())])\n",
    "    \n",
    "parameters = {'rfc__n_estimators': ([x for x in range(10, 30)]),\n",
    "              'rfc__random_state': ([12345]),\n",
    "              'rfc__max_depth': ([x for x in range(1, 10)]),\n",
    "              'rfc__criterion': (['entropy']),\n",
    "              'rfc__class_weight': (['balanced'])}\n",
    "\n",
    "gscv = GridSearchCV(pipeline, parameters, scoring='f1', cv=3, n_jobs=-1)\n",
    "\n",
    "gscv.fit(features_train_resample, target_train_resample)\n",
    "\n",
    "mts = gscv.cv_results_['mean_test_score']\n",
    "rfc_train_f1 = max(mts)\n",
    "\n",
    "print('F1 случайного леса =', round(rfc_train_f1,2))\n",
    "print('при параметрах', gscv.best_params_)\n",
    "print()\n",
    "\n",
    "#валидация:\n",
    "predictions_valid = gscv.predict(features_valid.text)\n",
    "rfc_valid_f1 = f1_score(target_valid, predictions_valid)\n",
    "print('F1 случайного леса на валидации =', round(rfc_valid_f1,2))\n",
    "print()\n",
    "\n",
    "#тестирование:\n",
    "predictions_test = gscv.predict(features_test.text)\n",
    "rfc_test_f1 = f1_score(target_test, predictions_test)\n",
    "print('финальный F1 случайного леса =', round(rfc_test_f1,2))"
   ]
  },
  {
   "cell_type": "markdown",
   "metadata": {},
   "source": [
    "### SGDClassifier"
   ]
  },
  {
   "cell_type": "code",
   "execution_count": 27,
   "metadata": {},
   "outputs": [
    {
     "name": "stdout",
     "output_type": "stream",
     "text": [
      "F1 SGDClassifier = 0.89\n",
      "при параметрах {'clf__class_weight': 'balanced', 'clf__eta0': 0.01, 'clf__learning_rate': 'adaptive', 'clf__loss': 'modified_huber', 'clf__random_state': 12345}\n",
      "\n",
      "F1 SGDClassifier на валидации = 0.69\n",
      "\n",
      "финальный F1 SGDClassifier = 0.7\n",
      "CPU times: user 3min 46s, sys: 14.2 s, total: 4min\n",
      "Wall time: 4min 6s\n"
     ]
    }
   ],
   "source": [
    "%%time\n",
    "\n",
    "#обучение:\n",
    "pipeline = Pipeline([(\"vect\", TfidfVectorizer(stop_words='english')), \n",
    "                     (\"clf\", SGDClassifier())])\n",
    "    \n",
    "parameters = {'clf__loss': ('hinge', 'log', 'modified_huber'),\n",
    "              'clf__learning_rate': ('constant', 'optimal', 'invscaling', 'adaptive'),\n",
    "              'clf__eta0': (.01, .05, .1, .5),\n",
    "              'clf__random_state': ([12345]),\n",
    "              'clf__class_weight': (['balanced'])}\n",
    "\n",
    "gscv = GridSearchCV(pipeline, parameters, scoring='f1', cv=3, n_jobs=-1)\n",
    "\n",
    "gscv.fit(features_train_resample, target_train_resample)\n",
    "\n",
    "mts = gscv.cv_results_['mean_test_score']\n",
    "sgdc_train_f1 = max(mts)\n",
    "\n",
    "print('F1 SGDClassifier =', round(sgdc_train_f1,2))\n",
    "print('при параметрах', gscv.best_params_)\n",
    "print()\n",
    "\n",
    "#валидация:\n",
    "predictions_valid = gscv.predict(features_valid.text)\n",
    "sgdc_valid_f1 = f1_score(target_valid, predictions_valid)\n",
    "print('F1 SGDClassifier на валидации =', round(sgdc_valid_f1,2))\n",
    "print()\n",
    "\n",
    "#тестирование:\n",
    "predictions_test = gscv.predict(features_test.text)\n",
    "sgdc_test_f1 = f1_score(target_test, predictions_test)\n",
    "print('финальный F1 SGDClassifier =', round(sgdc_test_f1,2))"
   ]
  },
  {
   "cell_type": "markdown",
   "metadata": {},
   "source": [
    "## Выводы"
   ]
  },
  {
   "cell_type": "code",
   "execution_count": 28,
   "metadata": {},
   "outputs": [
    {
     "data": {
      "text/html": [
       "<div>\n",
       "<style scoped>\n",
       "    .dataframe tbody tr th:only-of-type {\n",
       "        vertical-align: middle;\n",
       "    }\n",
       "\n",
       "    .dataframe tbody tr th {\n",
       "        vertical-align: top;\n",
       "    }\n",
       "\n",
       "    .dataframe thead th {\n",
       "        text-align: right;\n",
       "    }\n",
       "</style>\n",
       "<table border=\"1\" class=\"dataframe\">\n",
       "  <thead>\n",
       "    <tr style=\"text-align: right;\">\n",
       "      <th></th>\n",
       "      <th>F1 на обучающей выборке</th>\n",
       "      <th>F1 на валидационной выборке</th>\n",
       "      <th>F1 на тестовой выборке (финальный)</th>\n",
       "    </tr>\n",
       "  </thead>\n",
       "  <tbody>\n",
       "    <tr>\n",
       "      <th>LogisticRegression</th>\n",
       "      <td>0.756144</td>\n",
       "      <td>0.764114</td>\n",
       "      <td>0.764640</td>\n",
       "    </tr>\n",
       "    <tr>\n",
       "      <th>CatBoostClassifier</th>\n",
       "      <td>0.872809</td>\n",
       "      <td>0.722311</td>\n",
       "      <td>0.722698</td>\n",
       "    </tr>\n",
       "    <tr>\n",
       "      <th>SGDClassifier</th>\n",
       "      <td>0.891635</td>\n",
       "      <td>0.694762</td>\n",
       "      <td>0.697514</td>\n",
       "    </tr>\n",
       "    <tr>\n",
       "      <th>DecisionTreeClassifier</th>\n",
       "      <td>0.712648</td>\n",
       "      <td>0.622162</td>\n",
       "      <td>0.612903</td>\n",
       "    </tr>\n",
       "    <tr>\n",
       "      <th>RandomForestClassifier</th>\n",
       "      <td>0.774037</td>\n",
       "      <td>0.334877</td>\n",
       "      <td>0.332890</td>\n",
       "    </tr>\n",
       "  </tbody>\n",
       "</table>\n",
       "</div>"
      ],
      "text/plain": [
       "                        F1 на обучающей выборке  F1 на валидационной выборке  \\\n",
       "LogisticRegression                     0.756144                     0.764114   \n",
       "CatBoostClassifier                     0.872809                     0.722311   \n",
       "SGDClassifier                          0.891635                     0.694762   \n",
       "DecisionTreeClassifier                 0.712648                     0.622162   \n",
       "RandomForestClassifier                 0.774037                     0.334877   \n",
       "\n",
       "                        F1 на тестовой выборке (финальный)  \n",
       "LogisticRegression                                0.764640  \n",
       "CatBoostClassifier                                0.722698  \n",
       "SGDClassifier                                     0.697514  \n",
       "DecisionTreeClassifier                            0.612903  \n",
       "RandomForestClassifier                            0.332890  "
      ]
     },
     "execution_count": 28,
     "metadata": {},
     "output_type": "execute_result"
    }
   ],
   "source": [
    "#создаю сводную таблицу по показателям F1, времени обучения модели и времени предсказания модели:\n",
    "index = ['LogisticRegression',\n",
    "         'DecisionTreeClassifier',\n",
    "         'CatBoostClassifier',\n",
    "         'RandomForestClassifier',\n",
    "         'SGDClassifier'\n",
    "        ]\n",
    "\n",
    "data = {'F1 на обучающей выборке': [lr_train_f1,\n",
    "                                    dtc_train_f1,\n",
    "                                    cbc_train_f1,\n",
    "                                    rfc_train_f1,\n",
    "                                    sgdc_train_f1],\n",
    "        \n",
    "        'F1 на валидационной выборке': [lr_valid_f1,\n",
    "                                        dtc_valid_f1,\n",
    "                                        cbc_valid_f1,\n",
    "                                        rfc_valid_f1,\n",
    "                                        sgdc_valid_f1],\n",
    "        \n",
    "        'F1 на тестовой выборке (финальный)': [lr_test_f1,\n",
    "                                               dtc_test_f1,\n",
    "                                               cbc_test_f1,\n",
    "                                               rfc_test_f1,\n",
    "                                               sgdc_test_f1]}\n",
    "\n",
    "f1_data = pd.DataFrame(data=data, index=index)\n",
    "\n",
    "f1_data.sort_values(by='F1 на тестовой выборке (финальный)', ascending=False)"
   ]
  },
  {
   "cell_type": "markdown",
   "metadata": {},
   "source": [
    "В проекте:\n",
    "Загрузила данные и провела их предобработку - удаление лишних данных, очистку текстов, лемматизацию.\n",
    "\n",
    "Обучила 5 моделей с разными гиперпараметрами и выборками и проверила их на тестовой выборке.\n",
    "\n",
    "Выбрала лучшую модель по показателю F1.\n",
    "Худшими показателями среди моделей обладают RandomForestClassifier и DecisionTreeClassifier, так как дали наименьшее F1.\n",
    "\n",
    "Наилучшей моделью стала LogisticRegression, которая на тестировании показала F1 = 0.76. Поскольку требовалось найти модель классификации комментариев на позитивные и негативные со значением метрики качества F1 >= 0.75, рекомендовать могу LogisticRegression."
   ]
  }
 ],
 "metadata": {
  "ExecuteTimeLog": [
   {
    "duration": 2136,
    "start_time": "2023-06-05T08:27:31.096Z"
   },
   {
    "duration": 152,
    "start_time": "2023-06-05T08:28:11.889Z"
   },
   {
    "duration": 47,
    "start_time": "2023-06-05T08:28:18.629Z"
   },
   {
    "duration": 4,
    "start_time": "2023-06-05T08:28:30.198Z"
   },
   {
    "duration": 55,
    "start_time": "2023-06-05T08:28:30.794Z"
   },
   {
    "duration": 2246,
    "start_time": "2023-06-05T08:29:19.146Z"
   },
   {
    "duration": 194,
    "start_time": "2023-06-05T08:29:21.394Z"
   },
   {
    "duration": 42,
    "start_time": "2023-06-05T08:30:26.497Z"
   },
   {
    "duration": 3224,
    "start_time": "2023-06-05T08:33:55.916Z"
   },
   {
    "duration": 746,
    "start_time": "2023-06-05T08:34:12.028Z"
   },
   {
    "duration": 27,
    "start_time": "2023-06-05T08:34:31.752Z"
   },
   {
    "duration": 41,
    "start_time": "2023-06-05T16:48:07.888Z"
   },
   {
    "duration": 1900,
    "start_time": "2023-06-05T16:48:14.788Z"
   },
   {
    "duration": 3340,
    "start_time": "2023-06-05T16:48:16.690Z"
   },
   {
    "duration": 25,
    "start_time": "2023-06-05T16:48:20.032Z"
   },
   {
    "duration": 197,
    "start_time": "2023-06-05T16:48:20.059Z"
   },
   {
    "duration": 644,
    "start_time": "2023-06-05T16:49:17.686Z"
   },
   {
    "duration": 1644,
    "start_time": "2023-06-05T16:53:28.894Z"
   },
   {
    "duration": 2,
    "start_time": "2023-06-05T16:55:07.337Z"
   },
   {
    "duration": 3,
    "start_time": "2023-06-05T16:58:53.389Z"
   },
   {
    "duration": 3,
    "start_time": "2023-06-05T17:02:01.962Z"
   },
   {
    "duration": 3,
    "start_time": "2023-06-05T17:07:01.246Z"
   },
   {
    "duration": 7,
    "start_time": "2023-06-05T17:16:00.549Z"
   },
   {
    "duration": 44,
    "start_time": "2023-06-06T04:50:14.328Z"
   },
   {
    "duration": 2189,
    "start_time": "2023-06-06T04:51:03.640Z"
   },
   {
    "duration": 2189,
    "start_time": "2023-06-06T04:51:05.831Z"
   },
   {
    "duration": 29,
    "start_time": "2023-06-06T04:51:08.022Z"
   },
   {
    "duration": 242,
    "start_time": "2023-06-06T04:51:08.053Z"
   },
   {
    "duration": 1996,
    "start_time": "2023-06-06T04:51:08.297Z"
   },
   {
    "duration": 3,
    "start_time": "2023-06-06T04:51:10.295Z"
   },
   {
    "duration": 68,
    "start_time": "2023-06-06T04:51:10.300Z"
   },
   {
    "duration": 21,
    "start_time": "2023-06-06T04:51:10.370Z"
   },
   {
    "duration": 18,
    "start_time": "2023-06-06T04:53:12.103Z"
   },
   {
    "duration": 13,
    "start_time": "2023-06-06T04:54:35.002Z"
   },
   {
    "duration": 5,
    "start_time": "2023-06-06T05:10:25.694Z"
   },
   {
    "duration": 6,
    "start_time": "2023-06-06T05:10:51.946Z"
   },
   {
    "duration": 2250,
    "start_time": "2023-06-06T05:11:38.481Z"
   },
   {
    "duration": 864,
    "start_time": "2023-06-06T05:11:40.733Z"
   },
   {
    "duration": 36,
    "start_time": "2023-06-06T05:11:41.598Z"
   },
   {
    "duration": 245,
    "start_time": "2023-06-06T05:11:41.636Z"
   },
   {
    "duration": 2092,
    "start_time": "2023-06-06T05:11:41.883Z"
   },
   {
    "duration": 9,
    "start_time": "2023-06-06T05:11:43.977Z"
   },
   {
    "duration": 8,
    "start_time": "2023-06-06T05:11:43.987Z"
   },
   {
    "duration": 17,
    "start_time": "2023-06-06T05:11:43.997Z"
   },
   {
    "duration": 15,
    "start_time": "2023-06-06T05:11:44.016Z"
   },
   {
    "duration": 21,
    "start_time": "2023-06-06T05:11:44.033Z"
   },
   {
    "duration": 8,
    "start_time": "2023-06-06T05:15:44.676Z"
   },
   {
    "duration": 161,
    "start_time": "2023-06-06T05:34:09.831Z"
   },
   {
    "duration": 3008,
    "start_time": "2023-06-06T05:34:50.025Z"
   },
   {
    "duration": 795,
    "start_time": "2023-06-06T05:34:53.035Z"
   },
   {
    "duration": 26,
    "start_time": "2023-06-06T05:34:53.831Z"
   },
   {
    "duration": 230,
    "start_time": "2023-06-06T05:34:53.859Z"
   },
   {
    "duration": 2048,
    "start_time": "2023-06-06T05:34:54.091Z"
   },
   {
    "duration": 30,
    "start_time": "2023-06-06T05:34:56.141Z"
   },
   {
    "duration": 56,
    "start_time": "2023-06-06T05:34:56.173Z"
   },
   {
    "duration": 33,
    "start_time": "2023-06-06T05:34:56.230Z"
   },
   {
    "duration": 53,
    "start_time": "2023-06-06T05:34:56.264Z"
   },
   {
    "duration": 57,
    "start_time": "2023-06-06T05:34:56.319Z"
   },
   {
    "duration": 1755,
    "start_time": "2023-06-06T05:34:56.378Z"
   },
   {
    "duration": 19,
    "start_time": "2023-06-06T05:35:29.215Z"
   },
   {
    "duration": 23,
    "start_time": "2023-06-06T05:35:44.771Z"
   },
   {
    "duration": 11,
    "start_time": "2023-06-06T05:39:47.148Z"
   },
   {
    "duration": 11004,
    "start_time": "2023-06-06T05:40:58.706Z"
   },
   {
    "duration": 34,
    "start_time": "2023-06-06T05:42:22.295Z"
   },
   {
    "duration": 18,
    "start_time": "2023-06-06T05:43:16.905Z"
   },
   {
    "duration": 2940,
    "start_time": "2023-06-06T05:43:38.060Z"
   },
   {
    "duration": 931,
    "start_time": "2023-06-06T05:43:41.002Z"
   },
   {
    "duration": 46,
    "start_time": "2023-06-06T05:43:41.935Z"
   },
   {
    "duration": 281,
    "start_time": "2023-06-06T05:43:41.983Z"
   },
   {
    "duration": 2268,
    "start_time": "2023-06-06T05:43:42.266Z"
   },
   {
    "duration": 17,
    "start_time": "2023-06-06T05:43:44.537Z"
   },
   {
    "duration": 11,
    "start_time": "2023-06-06T05:43:44.556Z"
   },
   {
    "duration": 10,
    "start_time": "2023-06-06T05:43:44.568Z"
   },
   {
    "duration": 11,
    "start_time": "2023-06-06T05:43:44.580Z"
   },
   {
    "duration": 13,
    "start_time": "2023-06-06T05:43:44.592Z"
   },
   {
    "duration": 23,
    "start_time": "2023-06-06T05:43:44.606Z"
   },
   {
    "duration": 198,
    "start_time": "2023-06-06T05:43:44.633Z"
   },
   {
    "duration": 175,
    "start_time": "2023-06-06T05:44:38.646Z"
   },
   {
    "duration": 15,
    "start_time": "2023-06-06T05:45:24.390Z"
   },
   {
    "duration": 10,
    "start_time": "2023-06-06T05:50:03.342Z"
   },
   {
    "duration": 5,
    "start_time": "2023-06-06T05:50:41.955Z"
   },
   {
    "duration": 10,
    "start_time": "2023-06-06T05:52:39.925Z"
   },
   {
    "duration": 16,
    "start_time": "2023-06-06T05:53:21.830Z"
   },
   {
    "duration": 10,
    "start_time": "2023-06-06T05:53:55.228Z"
   },
   {
    "duration": 11,
    "start_time": "2023-06-06T06:04:18.702Z"
   },
   {
    "duration": 2823,
    "start_time": "2023-06-06T06:04:50.471Z"
   },
   {
    "duration": 798,
    "start_time": "2023-06-06T06:04:53.296Z"
   },
   {
    "duration": 37,
    "start_time": "2023-06-06T06:04:54.096Z"
   },
   {
    "duration": 243,
    "start_time": "2023-06-06T06:04:54.135Z"
   },
   {
    "duration": 2078,
    "start_time": "2023-06-06T06:04:54.380Z"
   },
   {
    "duration": 19,
    "start_time": "2023-06-06T06:04:56.459Z"
   },
   {
    "duration": 8,
    "start_time": "2023-06-06T06:04:56.479Z"
   },
   {
    "duration": 161,
    "start_time": "2023-06-06T06:04:56.488Z"
   },
   {
    "duration": 0,
    "start_time": "2023-06-06T06:04:56.651Z"
   },
   {
    "duration": 0,
    "start_time": "2023-06-06T06:04:56.652Z"
   },
   {
    "duration": 0,
    "start_time": "2023-06-06T06:04:56.653Z"
   },
   {
    "duration": 0,
    "start_time": "2023-06-06T06:04:56.654Z"
   },
   {
    "duration": 0,
    "start_time": "2023-06-06T06:04:56.655Z"
   },
   {
    "duration": 0,
    "start_time": "2023-06-06T06:04:56.656Z"
   },
   {
    "duration": 0,
    "start_time": "2023-06-06T06:04:56.657Z"
   },
   {
    "duration": 14,
    "start_time": "2023-06-06T06:05:37.343Z"
   },
   {
    "duration": 11,
    "start_time": "2023-06-06T06:05:47.514Z"
   },
   {
    "duration": 6675,
    "start_time": "2023-06-06T06:06:06.606Z"
   },
   {
    "duration": 10,
    "start_time": "2023-06-06T06:06:13.283Z"
   },
   {
    "duration": 3124,
    "start_time": "2023-06-06T06:11:00.451Z"
   },
   {
    "duration": 794,
    "start_time": "2023-06-06T06:11:03.578Z"
   },
   {
    "duration": 28,
    "start_time": "2023-06-06T06:11:04.374Z"
   },
   {
    "duration": 233,
    "start_time": "2023-06-06T06:11:04.404Z"
   },
   {
    "duration": 2098,
    "start_time": "2023-06-06T06:11:04.638Z"
   },
   {
    "duration": 6966,
    "start_time": "2023-06-06T06:11:06.738Z"
   },
   {
    "duration": 11,
    "start_time": "2023-06-06T06:11:13.705Z"
   },
   {
    "duration": 38,
    "start_time": "2023-06-06T06:11:13.725Z"
   },
   {
    "duration": 67,
    "start_time": "2023-06-06T06:11:13.765Z"
   },
   {
    "duration": 21,
    "start_time": "2023-06-06T06:11:13.835Z"
   },
   {
    "duration": 33,
    "start_time": "2023-06-06T06:11:13.857Z"
   },
   {
    "duration": 32,
    "start_time": "2023-06-06T06:11:13.891Z"
   },
   {
    "duration": 2256,
    "start_time": "2023-06-06T06:11:13.924Z"
   },
   {
    "duration": 1838,
    "start_time": "2023-06-06T06:11:57.223Z"
   },
   {
    "duration": 19,
    "start_time": "2023-06-06T06:13:25.226Z"
   },
   {
    "duration": 22830,
    "start_time": "2023-06-06T06:15:57.206Z"
   },
   {
    "duration": 67667,
    "start_time": "2023-06-06T06:18:13.159Z"
   },
   {
    "duration": 71722,
    "start_time": "2023-06-06T06:21:22.204Z"
   },
   {
    "duration": 34586,
    "start_time": "2023-06-06T06:28:52.340Z"
   },
   {
    "duration": 12,
    "start_time": "2023-06-06T06:30:00.903Z"
   },
   {
    "duration": 23699,
    "start_time": "2023-06-06T06:30:20.136Z"
   },
   {
    "duration": 17107,
    "start_time": "2023-06-06T06:31:32.719Z"
   },
   {
    "duration": 18,
    "start_time": "2023-06-06T06:33:23.232Z"
   },
   {
    "duration": 2644,
    "start_time": "2023-06-06T06:33:47.933Z"
   },
   {
    "duration": 799,
    "start_time": "2023-06-06T06:33:50.579Z"
   },
   {
    "duration": 25,
    "start_time": "2023-06-06T06:33:51.379Z"
   },
   {
    "duration": 228,
    "start_time": "2023-06-06T06:33:51.405Z"
   },
   {
    "duration": 1960,
    "start_time": "2023-06-06T06:33:51.635Z"
   },
   {
    "duration": 6692,
    "start_time": "2023-06-06T06:33:53.597Z"
   },
   {
    "duration": 10,
    "start_time": "2023-06-06T06:34:00.290Z"
   },
   {
    "duration": 54,
    "start_time": "2023-06-06T06:34:00.301Z"
   },
   {
    "duration": 55,
    "start_time": "2023-06-06T06:34:00.357Z"
   },
   {
    "duration": 41,
    "start_time": "2023-06-06T06:34:00.414Z"
   },
   {
    "duration": 61,
    "start_time": "2023-06-06T06:34:00.457Z"
   },
   {
    "duration": 2073,
    "start_time": "2023-06-06T06:34:00.520Z"
   },
   {
    "duration": 12431,
    "start_time": "2023-06-06T06:34:02.594Z"
   },
   {
    "duration": 11897,
    "start_time": "2023-06-06T06:34:15.028Z"
   },
   {
    "duration": 9309,
    "start_time": "2023-06-06T06:34:26.927Z"
   },
   {
    "duration": 246,
    "start_time": "2023-06-06T06:34:36.239Z"
   },
   {
    "duration": 0,
    "start_time": "2023-06-06T06:34:36.487Z"
   },
   {
    "duration": 0,
    "start_time": "2023-06-06T06:34:36.487Z"
   },
   {
    "duration": 42,
    "start_time": "2023-06-06T06:53:58.171Z"
   },
   {
    "duration": 43,
    "start_time": "2023-06-06T06:59:58.281Z"
   },
   {
    "duration": 1811,
    "start_time": "2023-06-06T07:08:24.169Z"
   },
   {
    "duration": 2976,
    "start_time": "2023-06-06T07:08:39.570Z"
   },
   {
    "duration": 924,
    "start_time": "2023-06-06T07:08:42.548Z"
   },
   {
    "duration": 55,
    "start_time": "2023-06-06T07:08:43.475Z"
   },
   {
    "duration": 262,
    "start_time": "2023-06-06T07:08:43.534Z"
   },
   {
    "duration": 44,
    "start_time": "2023-06-06T07:09:00.415Z"
   },
   {
    "duration": 2645,
    "start_time": "2023-06-06T07:09:16.764Z"
   },
   {
    "duration": 2228,
    "start_time": "2023-06-06T07:09:19.411Z"
   },
   {
    "duration": 31,
    "start_time": "2023-06-06T07:09:21.641Z"
   },
   {
    "duration": 229,
    "start_time": "2023-06-06T07:09:21.674Z"
   },
   {
    "duration": 59,
    "start_time": "2023-06-06T07:09:38.534Z"
   },
   {
    "duration": 6,
    "start_time": "2023-06-06T07:10:08.295Z"
   },
   {
    "duration": 4310,
    "start_time": "2023-06-14T06:18:56.976Z"
   },
   {
    "duration": 1450,
    "start_time": "2023-06-14T06:19:01.289Z"
   },
   {
    "duration": 44,
    "start_time": "2023-06-14T06:19:02.741Z"
   },
   {
    "duration": 274,
    "start_time": "2023-06-14T06:19:02.787Z"
   },
   {
    "duration": 2010,
    "start_time": "2023-06-14T06:19:03.062Z"
   },
   {
    "duration": 7583,
    "start_time": "2023-06-14T06:19:05.074Z"
   },
   {
    "duration": 11,
    "start_time": "2023-06-14T06:19:12.658Z"
   },
   {
    "duration": 15,
    "start_time": "2023-06-14T06:19:12.671Z"
   },
   {
    "duration": 11,
    "start_time": "2023-06-14T06:19:12.689Z"
   },
   {
    "duration": 20,
    "start_time": "2023-06-14T06:19:12.703Z"
   },
   {
    "duration": 41,
    "start_time": "2023-06-14T06:19:12.724Z"
   },
   {
    "duration": 2388,
    "start_time": "2023-06-14T06:19:12.767Z"
   },
   {
    "duration": 22987,
    "start_time": "2023-06-14T06:19:15.162Z"
   },
   {
    "duration": 35496,
    "start_time": "2023-06-14T06:19:38.160Z"
   },
   {
    "duration": 23789,
    "start_time": "2023-06-14T06:20:13.658Z"
   },
   {
    "duration": 215,
    "start_time": "2023-06-14T06:20:37.449Z"
   },
   {
    "duration": 0,
    "start_time": "2023-06-14T06:20:37.666Z"
   },
   {
    "duration": 0,
    "start_time": "2023-06-14T06:20:37.667Z"
   },
   {
    "duration": 0,
    "start_time": "2023-06-14T06:20:37.669Z"
   },
   {
    "duration": 72,
    "start_time": "2023-06-19T10:07:49.088Z"
   },
   {
    "duration": 4236,
    "start_time": "2023-06-19T10:08:05.132Z"
   },
   {
    "duration": 2357,
    "start_time": "2023-06-19T10:08:09.370Z"
   },
   {
    "duration": 30,
    "start_time": "2023-06-19T10:08:11.729Z"
   },
   {
    "duration": 228,
    "start_time": "2023-06-19T10:08:11.761Z"
   },
   {
    "duration": 1875,
    "start_time": "2023-06-19T10:08:11.990Z"
   },
   {
    "duration": 6601,
    "start_time": "2023-06-19T10:08:13.866Z"
   },
   {
    "duration": 14,
    "start_time": "2023-06-19T10:08:20.468Z"
   },
   {
    "duration": 42,
    "start_time": "2023-06-19T10:08:20.484Z"
   },
   {
    "duration": 40,
    "start_time": "2023-06-19T10:08:20.528Z"
   },
   {
    "duration": 184,
    "start_time": "2023-06-19T10:08:20.571Z"
   },
   {
    "duration": 0,
    "start_time": "2023-06-19T10:08:20.757Z"
   },
   {
    "duration": 0,
    "start_time": "2023-06-19T10:08:20.758Z"
   },
   {
    "duration": 0,
    "start_time": "2023-06-19T10:08:20.759Z"
   },
   {
    "duration": 0,
    "start_time": "2023-06-19T10:08:20.761Z"
   },
   {
    "duration": 0,
    "start_time": "2023-06-19T10:08:20.762Z"
   },
   {
    "duration": 0,
    "start_time": "2023-06-19T10:08:20.763Z"
   },
   {
    "duration": 0,
    "start_time": "2023-06-19T10:08:20.764Z"
   },
   {
    "duration": 0,
    "start_time": "2023-06-19T10:08:20.774Z"
   },
   {
    "duration": 0,
    "start_time": "2023-06-19T10:08:20.775Z"
   },
   {
    "duration": 0,
    "start_time": "2023-06-19T10:08:20.777Z"
   },
   {
    "duration": 0,
    "start_time": "2023-06-19T10:08:20.778Z"
   },
   {
    "duration": 12,
    "start_time": "2023-06-19T10:08:58.000Z"
   },
   {
    "duration": 11,
    "start_time": "2023-06-19T10:09:33.082Z"
   },
   {
    "duration": 37727,
    "start_time": "2023-06-19T10:10:46.090Z"
   },
   {
    "duration": 823,
    "start_time": "2023-06-19T10:11:33.695Z"
   },
   {
    "duration": 89,
    "start_time": "2023-06-19T10:11:35.864Z"
   },
   {
    "duration": 4121,
    "start_time": "2023-06-19T10:11:51.059Z"
   },
   {
    "duration": 2457,
    "start_time": "2023-06-19T10:11:55.182Z"
   },
   {
    "duration": 31,
    "start_time": "2023-06-19T10:11:57.641Z"
   },
   {
    "duration": 261,
    "start_time": "2023-06-19T10:11:57.674Z"
   },
   {
    "duration": 2063,
    "start_time": "2023-06-19T10:11:57.937Z"
   },
   {
    "duration": 7338,
    "start_time": "2023-06-19T10:12:00.002Z"
   },
   {
    "duration": 10,
    "start_time": "2023-06-19T10:12:07.342Z"
   },
   {
    "duration": 23,
    "start_time": "2023-06-19T10:12:07.353Z"
   },
   {
    "duration": 14,
    "start_time": "2023-06-19T10:12:07.378Z"
   },
   {
    "duration": 13469,
    "start_time": "2023-06-19T10:12:07.394Z"
   },
   {
    "duration": 295,
    "start_time": "2023-06-19T10:12:20.865Z"
   },
   {
    "duration": 204,
    "start_time": "2023-06-19T10:12:21.161Z"
   },
   {
    "duration": 0,
    "start_time": "2023-06-19T10:12:21.367Z"
   },
   {
    "duration": 0,
    "start_time": "2023-06-19T10:12:21.369Z"
   },
   {
    "duration": 0,
    "start_time": "2023-06-19T10:12:21.370Z"
   },
   {
    "duration": 0,
    "start_time": "2023-06-19T10:12:21.371Z"
   },
   {
    "duration": 0,
    "start_time": "2023-06-19T10:12:21.372Z"
   },
   {
    "duration": 0,
    "start_time": "2023-06-19T10:12:21.373Z"
   },
   {
    "duration": 0,
    "start_time": "2023-06-19T10:12:21.374Z"
   },
   {
    "duration": 0,
    "start_time": "2023-06-19T10:12:21.375Z"
   },
   {
    "duration": 0,
    "start_time": "2023-06-19T10:12:21.376Z"
   },
   {
    "duration": 0,
    "start_time": "2023-06-19T10:12:21.378Z"
   },
   {
    "duration": 0,
    "start_time": "2023-06-19T10:12:21.379Z"
   },
   {
    "duration": 5,
    "start_time": "2023-06-19T10:26:29.452Z"
   },
   {
    "duration": 1659,
    "start_time": "2023-06-19T10:33:10.096Z"
   },
   {
    "duration": 1784,
    "start_time": "2023-06-19T10:33:11.757Z"
   },
   {
    "duration": 33,
    "start_time": "2023-06-19T10:33:13.543Z"
   },
   {
    "duration": 240,
    "start_time": "2023-06-19T10:33:13.579Z"
   },
   {
    "duration": 2187,
    "start_time": "2023-06-19T10:33:13.821Z"
   },
   {
    "duration": 7270,
    "start_time": "2023-06-19T10:33:16.009Z"
   },
   {
    "duration": 14,
    "start_time": "2023-06-19T10:33:23.282Z"
   },
   {
    "duration": 23,
    "start_time": "2023-06-19T10:33:23.298Z"
   },
   {
    "duration": 19,
    "start_time": "2023-06-19T10:33:23.323Z"
   },
   {
    "duration": 65,
    "start_time": "2023-06-19T10:33:23.345Z"
   },
   {
    "duration": 6846,
    "start_time": "2023-06-19T10:33:23.412Z"
   },
   {
    "duration": 31531,
    "start_time": "2023-06-19T10:33:30.260Z"
   },
   {
    "duration": 37898,
    "start_time": "2023-06-19T10:34:01.798Z"
   },
   {
    "duration": 33182,
    "start_time": "2023-06-19T10:34:39.699Z"
   },
   {
    "duration": 23,
    "start_time": "2023-06-19T10:35:12.882Z"
   },
   {
    "duration": 1177,
    "start_time": "2023-06-19T10:35:12.907Z"
   },
   {
    "duration": 11089,
    "start_time": "2023-06-19T10:35:14.086Z"
   },
   {
    "duration": 126,
    "start_time": "2023-06-19T10:35:25.177Z"
   },
   {
    "duration": 0,
    "start_time": "2023-06-19T10:35:25.304Z"
   },
   {
    "duration": 0,
    "start_time": "2023-06-19T10:35:25.306Z"
   },
   {
    "duration": 0,
    "start_time": "2023-06-19T10:35:25.307Z"
   },
   {
    "duration": 0,
    "start_time": "2023-06-19T10:35:25.308Z"
   },
   {
    "duration": 0,
    "start_time": "2023-06-19T10:35:25.310Z"
   },
   {
    "duration": 0,
    "start_time": "2023-06-19T10:35:25.311Z"
   },
   {
    "duration": 0,
    "start_time": "2023-06-19T10:35:25.312Z"
   },
   {
    "duration": 79285,
    "start_time": "2023-06-19T10:38:23.098Z"
   },
   {
    "duration": 10,
    "start_time": "2023-06-19T10:40:08.334Z"
   },
   {
    "duration": 249951,
    "start_time": "2023-06-19T10:40:10.846Z"
   },
   {
    "duration": 29195,
    "start_time": "2023-06-19T10:46:41.997Z"
   },
   {
    "duration": 772290,
    "start_time": "2023-06-19T10:47:11.195Z"
   },
   {
    "duration": 43419,
    "start_time": "2023-06-19T11:00:03.487Z"
   },
   {
    "duration": 56,
    "start_time": "2023-06-19T11:01:48.299Z"
   },
   {
    "duration": 5339,
    "start_time": "2023-06-19T11:01:58.991Z"
   },
   {
    "duration": 2641,
    "start_time": "2023-06-19T11:02:04.332Z"
   },
   {
    "duration": 39,
    "start_time": "2023-06-19T11:02:06.975Z"
   },
   {
    "duration": 252,
    "start_time": "2023-06-19T11:02:07.015Z"
   },
   {
    "duration": 2091,
    "start_time": "2023-06-19T11:02:07.270Z"
   },
   {
    "duration": 7171,
    "start_time": "2023-06-19T11:02:09.362Z"
   },
   {
    "duration": 10,
    "start_time": "2023-06-19T11:02:16.535Z"
   },
   {
    "duration": 48,
    "start_time": "2023-06-19T11:02:16.546Z"
   },
   {
    "duration": 62,
    "start_time": "2023-06-19T11:02:16.596Z"
   },
   {
    "duration": 106,
    "start_time": "2023-06-19T11:02:16.659Z"
   },
   {
    "duration": 7430,
    "start_time": "2023-06-19T11:02:16.767Z"
   },
   {
    "duration": 52185,
    "start_time": "2023-06-19T11:02:24.198Z"
   },
   {
    "duration": 41985,
    "start_time": "2023-06-19T11:03:16.391Z"
   },
   {
    "duration": 45206,
    "start_time": "2023-06-19T11:03:58.381Z"
   },
   {
    "duration": 34,
    "start_time": "2023-06-19T11:04:43.590Z"
   },
   {
    "duration": 1267,
    "start_time": "2023-06-19T11:04:43.626Z"
   },
   {
    "duration": 14884,
    "start_time": "2023-06-19T11:04:44.895Z"
   },
   {
    "duration": 79706,
    "start_time": "2023-06-19T11:04:59.787Z"
   },
   {
    "duration": 12,
    "start_time": "2023-06-19T11:06:19.495Z"
   },
   {
    "duration": 289171,
    "start_time": "2023-06-19T11:06:19.509Z"
   },
   {
    "duration": 39412,
    "start_time": "2023-06-19T11:11:08.685Z"
   },
   {
    "duration": 818128,
    "start_time": "2023-06-19T11:11:48.100Z"
   },
   {
    "duration": 42719,
    "start_time": "2023-06-19T11:25:26.230Z"
   },
   {
    "duration": 50,
    "start_time": "2023-06-19T11:54:17.853Z"
   },
   {
    "duration": 2859,
    "start_time": "2023-06-19T11:55:47.139Z"
   },
   {
    "duration": 2407,
    "start_time": "2023-06-19T11:55:50.000Z"
   },
   {
    "duration": 37,
    "start_time": "2023-06-19T11:55:52.409Z"
   },
   {
    "duration": 241,
    "start_time": "2023-06-19T11:55:52.449Z"
   },
   {
    "duration": 2085,
    "start_time": "2023-06-19T11:55:52.691Z"
   },
   {
    "duration": 7793,
    "start_time": "2023-06-19T11:55:54.778Z"
   },
   {
    "duration": 11,
    "start_time": "2023-06-19T11:56:02.576Z"
   },
   {
    "duration": 40,
    "start_time": "2023-06-19T11:56:02.589Z"
   },
   {
    "duration": 20,
    "start_time": "2023-06-19T11:56:02.631Z"
   },
   {
    "duration": 77,
    "start_time": "2023-06-19T11:56:02.654Z"
   },
   {
    "duration": 7107,
    "start_time": "2023-06-19T11:56:02.733Z"
   },
   {
    "duration": 54544,
    "start_time": "2023-06-19T11:56:09.842Z"
   },
   {
    "duration": 37702,
    "start_time": "2023-06-19T11:57:04.388Z"
   },
   {
    "duration": 39612,
    "start_time": "2023-06-19T11:57:42.176Z"
   },
   {
    "duration": 36,
    "start_time": "2023-06-19T11:58:21.790Z"
   },
   {
    "duration": 1094,
    "start_time": "2023-06-19T11:58:21.828Z"
   },
   {
    "duration": 15451,
    "start_time": "2023-06-19T11:58:22.924Z"
   },
   {
    "duration": 79713,
    "start_time": "2023-06-19T11:58:38.377Z"
   },
   {
    "duration": 11,
    "start_time": "2023-06-19T11:59:58.092Z"
   },
   {
    "duration": 163,
    "start_time": "2023-06-19T11:59:58.105Z"
   },
   {
    "duration": 0,
    "start_time": "2023-06-19T11:59:58.270Z"
   },
   {
    "duration": 0,
    "start_time": "2023-06-19T11:59:58.275Z"
   },
   {
    "duration": 0,
    "start_time": "2023-06-19T11:59:58.276Z"
   },
   {
    "duration": 0,
    "start_time": "2023-06-19T11:59:58.276Z"
   },
   {
    "duration": 0,
    "start_time": "2023-06-19T11:59:58.277Z"
   },
   {
    "duration": 0,
    "start_time": "2023-06-19T11:59:58.278Z"
   },
   {
    "duration": 0,
    "start_time": "2023-06-19T11:59:58.279Z"
   },
   {
    "duration": 219,
    "start_time": "2023-06-19T12:00:58.647Z"
   },
   {
    "duration": 13,
    "start_time": "2023-06-19T12:01:26.061Z"
   },
   {
    "duration": 12,
    "start_time": "2023-06-19T12:01:48.626Z"
   },
   {
    "duration": 10,
    "start_time": "2023-06-19T12:02:29.418Z"
   },
   {
    "duration": 17,
    "start_time": "2023-06-19T12:02:54.215Z"
   },
   {
    "duration": 14,
    "start_time": "2023-06-19T12:03:49.842Z"
   },
   {
    "duration": 267461,
    "start_time": "2023-06-19T12:03:55.616Z"
   },
   {
    "duration": 33212,
    "start_time": "2023-06-19T12:08:23.080Z"
   },
   {
    "duration": 1624,
    "start_time": "2023-06-19T12:20:03.634Z"
   },
   {
    "duration": 886,
    "start_time": "2023-06-19T12:20:05.261Z"
   },
   {
    "duration": 39,
    "start_time": "2023-06-19T12:20:06.149Z"
   },
   {
    "duration": 293,
    "start_time": "2023-06-19T12:20:06.190Z"
   },
   {
    "duration": 1974,
    "start_time": "2023-06-19T12:20:06.485Z"
   },
   {
    "duration": 6723,
    "start_time": "2023-06-19T12:20:08.461Z"
   },
   {
    "duration": 10,
    "start_time": "2023-06-19T12:20:15.185Z"
   },
   {
    "duration": 11,
    "start_time": "2023-06-19T12:20:15.197Z"
   },
   {
    "duration": 8,
    "start_time": "2023-06-19T12:20:15.210Z"
   },
   {
    "duration": 150,
    "start_time": "2023-06-19T12:20:15.222Z"
   },
   {
    "duration": 0,
    "start_time": "2023-06-19T12:20:15.375Z"
   },
   {
    "duration": 0,
    "start_time": "2023-06-19T12:20:15.376Z"
   },
   {
    "duration": 0,
    "start_time": "2023-06-19T12:20:15.377Z"
   },
   {
    "duration": 0,
    "start_time": "2023-06-19T12:20:15.378Z"
   },
   {
    "duration": 0,
    "start_time": "2023-06-19T12:20:15.379Z"
   },
   {
    "duration": 0,
    "start_time": "2023-06-19T12:20:15.380Z"
   },
   {
    "duration": 0,
    "start_time": "2023-06-19T12:20:15.382Z"
   },
   {
    "duration": 0,
    "start_time": "2023-06-19T12:20:15.382Z"
   },
   {
    "duration": 0,
    "start_time": "2023-06-19T12:20:15.383Z"
   },
   {
    "duration": 0,
    "start_time": "2023-06-19T12:20:15.385Z"
   },
   {
    "duration": 0,
    "start_time": "2023-06-19T12:20:15.386Z"
   },
   {
    "duration": 0,
    "start_time": "2023-06-19T12:20:15.387Z"
   },
   {
    "duration": 0,
    "start_time": "2023-06-19T12:20:15.388Z"
   },
   {
    "duration": 0,
    "start_time": "2023-06-19T12:20:15.388Z"
   },
   {
    "duration": 0,
    "start_time": "2023-06-19T12:20:15.390Z"
   },
   {
    "duration": 0,
    "start_time": "2023-06-19T12:20:15.391Z"
   },
   {
    "duration": 0,
    "start_time": "2023-06-19T12:20:15.392Z"
   },
   {
    "duration": 190,
    "start_time": "2023-06-19T12:22:29.949Z"
   },
   {
    "duration": 12,
    "start_time": "2023-06-19T12:23:05.232Z"
   },
   {
    "duration": 16,
    "start_time": "2023-06-19T12:23:32.628Z"
   },
   {
    "duration": 1461,
    "start_time": "2023-06-19T12:23:33.065Z"
   },
   {
    "duration": 7861,
    "start_time": "2023-06-19T12:23:39.115Z"
   },
   {
    "duration": 9327,
    "start_time": "2023-06-19T12:23:51.760Z"
   },
   {
    "duration": 5153,
    "start_time": "2023-06-19T12:24:03.023Z"
   },
   {
    "duration": 8,
    "start_time": "2023-06-19T12:24:12.997Z"
   },
   {
    "duration": 191,
    "start_time": "2023-06-19T12:24:18.489Z"
   },
   {
    "duration": 3933,
    "start_time": "2023-06-19T12:24:19.745Z"
   },
   {
    "duration": 14753,
    "start_time": "2023-06-19T12:24:23.680Z"
   },
   {
    "duration": 16670,
    "start_time": "2023-06-19T12:24:46.258Z"
   },
   {
    "duration": 10,
    "start_time": "2023-06-19T12:25:24.794Z"
   },
   {
    "duration": 44326,
    "start_time": "2023-06-19T12:25:24.857Z"
   },
   {
    "duration": 742,
    "start_time": "2023-06-19T12:26:14.136Z"
   },
   {
    "duration": 56558,
    "start_time": "2023-06-19T12:26:16.512Z"
   },
   {
    "duration": 2152,
    "start_time": "2023-06-19T12:27:19.024Z"
   },
   {
    "duration": 229966,
    "start_time": "2023-06-19T12:27:22.841Z"
   },
   {
    "duration": 10,
    "start_time": "2023-06-19T12:31:12.809Z"
   },
   {
    "duration": 1030,
    "start_time": "2023-06-19T12:31:27.499Z"
   },
   {
    "duration": 384,
    "start_time": "2023-06-19T12:32:54.716Z"
   },
   {
    "duration": 1308,
    "start_time": "2023-06-19T12:33:07.250Z"
   },
   {
    "duration": 874,
    "start_time": "2023-06-19T12:33:08.559Z"
   },
   {
    "duration": 45,
    "start_time": "2023-06-19T12:33:09.434Z"
   },
   {
    "duration": 225,
    "start_time": "2023-06-19T12:33:09.481Z"
   },
   {
    "duration": 2004,
    "start_time": "2023-06-19T12:33:09.707Z"
   },
   {
    "duration": 6538,
    "start_time": "2023-06-19T12:33:11.713Z"
   },
   {
    "duration": 10,
    "start_time": "2023-06-19T12:33:18.252Z"
   },
   {
    "duration": 11,
    "start_time": "2023-06-19T12:33:18.276Z"
   },
   {
    "duration": 20,
    "start_time": "2023-06-19T12:33:18.288Z"
   },
   {
    "duration": 21,
    "start_time": "2023-06-19T12:33:18.310Z"
   },
   {
    "duration": 19,
    "start_time": "2023-06-19T12:33:18.333Z"
   },
   {
    "duration": 2146,
    "start_time": "2023-06-19T12:33:18.354Z"
   },
   {
    "duration": 12975,
    "start_time": "2023-06-19T12:33:20.501Z"
   },
   {
    "duration": 12408,
    "start_time": "2023-06-19T12:33:33.477Z"
   },
   {
    "duration": 6914,
    "start_time": "2023-06-19T12:33:45.976Z"
   },
   {
    "duration": 11,
    "start_time": "2023-06-19T12:33:52.976Z"
   },
   {
    "duration": 339,
    "start_time": "2023-06-19T12:33:52.989Z"
   },
   {
    "duration": 4946,
    "start_time": "2023-06-19T12:33:53.330Z"
   },
   {
    "duration": 21669,
    "start_time": "2023-06-19T12:33:58.279Z"
   },
   {
    "duration": 10,
    "start_time": "2023-06-19T12:34:19.949Z"
   },
   {
    "duration": 90717,
    "start_time": "2023-06-19T12:34:19.960Z"
   },
   {
    "duration": 9304,
    "start_time": "2023-06-19T12:35:50.679Z"
   },
   {
    "duration": 121176,
    "start_time": "2023-06-19T12:35:59.985Z"
   },
   {
    "duration": 6220,
    "start_time": "2023-06-19T12:38:01.163Z"
   },
   {
    "duration": 2610,
    "start_time": "2023-06-19T12:38:38.490Z"
   },
   {
    "duration": 2308,
    "start_time": "2023-06-19T12:38:41.102Z"
   },
   {
    "duration": 31,
    "start_time": "2023-06-19T12:38:43.412Z"
   },
   {
    "duration": 218,
    "start_time": "2023-06-19T12:38:43.445Z"
   },
   {
    "duration": 1986,
    "start_time": "2023-06-19T12:38:43.665Z"
   },
   {
    "duration": 6500,
    "start_time": "2023-06-19T12:38:45.653Z"
   },
   {
    "duration": 9,
    "start_time": "2023-06-19T12:38:52.154Z"
   },
   {
    "duration": 14,
    "start_time": "2023-06-19T12:38:52.164Z"
   },
   {
    "duration": 21,
    "start_time": "2023-06-19T12:38:52.180Z"
   },
   {
    "duration": 21,
    "start_time": "2023-06-19T12:38:52.204Z"
   },
   {
    "duration": 33,
    "start_time": "2023-06-19T12:38:52.227Z"
   },
   {
    "duration": 969,
    "start_time": "2023-06-19T12:38:52.262Z"
   },
   {
    "duration": 5048,
    "start_time": "2023-06-19T12:38:53.233Z"
   },
   {
    "duration": 6592,
    "start_time": "2023-06-19T12:38:58.284Z"
   },
   {
    "duration": 4298,
    "start_time": "2023-06-19T12:39:04.879Z"
   },
   {
    "duration": 96,
    "start_time": "2023-06-19T12:39:09.179Z"
   },
   {
    "duration": 149,
    "start_time": "2023-06-19T12:39:09.277Z"
   },
   {
    "duration": 2752,
    "start_time": "2023-06-19T12:39:09.427Z"
   },
   {
    "duration": 10875,
    "start_time": "2023-06-19T12:39:12.181Z"
   },
   {
    "duration": 18,
    "start_time": "2023-06-19T12:39:23.058Z"
   },
   {
    "duration": 41898,
    "start_time": "2023-06-19T12:39:23.079Z"
   },
   {
    "duration": 2500,
    "start_time": "2023-06-19T12:40:04.979Z"
   },
   {
    "duration": 34761,
    "start_time": "2023-06-19T12:40:07.481Z"
   },
   {
    "duration": 1263,
    "start_time": "2023-06-19T12:40:42.244Z"
   },
   {
    "duration": 193963,
    "start_time": "2023-06-19T12:40:43.508Z"
   },
   {
    "duration": 11,
    "start_time": "2023-06-19T12:43:57.472Z"
   },
   {
    "duration": 3136,
    "start_time": "2023-06-19T12:43:57.485Z"
   },
   {
    "duration": 1384,
    "start_time": "2023-06-19T12:48:51.150Z"
   },
   {
    "duration": 920,
    "start_time": "2023-06-19T12:48:52.536Z"
   },
   {
    "duration": 34,
    "start_time": "2023-06-19T12:48:53.457Z"
   },
   {
    "duration": 248,
    "start_time": "2023-06-19T12:48:53.493Z"
   },
   {
    "duration": 2051,
    "start_time": "2023-06-19T12:48:53.742Z"
   },
   {
    "duration": 6830,
    "start_time": "2023-06-19T12:48:55.796Z"
   },
   {
    "duration": 9,
    "start_time": "2023-06-19T12:49:02.628Z"
   },
   {
    "duration": 18,
    "start_time": "2023-06-19T12:49:02.639Z"
   },
   {
    "duration": 18,
    "start_time": "2023-06-19T12:49:02.658Z"
   },
   {
    "duration": 25,
    "start_time": "2023-06-19T12:49:02.678Z"
   },
   {
    "duration": 72,
    "start_time": "2023-06-19T12:49:02.705Z"
   },
   {
    "duration": 6567,
    "start_time": "2023-06-19T12:49:02.779Z"
   },
   {
    "duration": 35931,
    "start_time": "2023-06-19T12:49:09.348Z"
   },
   {
    "duration": 36995,
    "start_time": "2023-06-19T12:49:45.281Z"
   },
   {
    "duration": 39702,
    "start_time": "2023-06-19T12:50:22.278Z"
   },
   {
    "duration": 24,
    "start_time": "2023-06-19T12:51:01.981Z"
   },
   {
    "duration": 1094,
    "start_time": "2023-06-19T12:51:02.006Z"
   },
   {
    "duration": 10574,
    "start_time": "2023-06-19T12:51:03.102Z"
   },
   {
    "duration": 74915,
    "start_time": "2023-06-19T12:51:13.679Z"
   },
   {
    "duration": 11,
    "start_time": "2023-06-19T12:52:28.596Z"
   },
   {
    "duration": 256672,
    "start_time": "2023-06-19T12:52:28.609Z"
   },
   {
    "duration": 35291,
    "start_time": "2023-06-19T12:56:45.285Z"
   },
   {
    "duration": 742799,
    "start_time": "2023-06-19T12:57:20.578Z"
   },
   {
    "duration": 38674,
    "start_time": "2023-06-19T13:09:43.379Z"
   },
   {
    "duration": 44,
    "start_time": "2023-06-19T13:12:20.913Z"
   },
   {
    "duration": 3364,
    "start_time": "2023-06-19T13:12:26.036Z"
   },
   {
    "duration": 2396,
    "start_time": "2023-06-19T13:12:29.402Z"
   },
   {
    "duration": 32,
    "start_time": "2023-06-19T13:12:31.800Z"
   },
   {
    "duration": 309,
    "start_time": "2023-06-19T13:12:31.834Z"
   },
   {
    "duration": 2073,
    "start_time": "2023-06-19T13:12:32.145Z"
   },
   {
    "duration": 6572,
    "start_time": "2023-06-19T13:12:34.220Z"
   },
   {
    "duration": 9,
    "start_time": "2023-06-19T13:12:40.794Z"
   },
   {
    "duration": 23,
    "start_time": "2023-06-19T13:12:40.805Z"
   },
   {
    "duration": 19,
    "start_time": "2023-06-19T13:12:40.830Z"
   },
   {
    "duration": 40,
    "start_time": "2023-06-19T13:12:40.852Z"
   },
   {
    "duration": 37,
    "start_time": "2023-06-19T13:12:40.894Z"
   },
   {
    "duration": 4223,
    "start_time": "2023-06-19T13:12:40.932Z"
   },
   {
    "duration": 22124,
    "start_time": "2023-06-19T13:12:45.156Z"
   },
   {
    "duration": 33600,
    "start_time": "2023-06-19T13:13:07.281Z"
   },
   {
    "duration": 31394,
    "start_time": "2023-06-19T13:13:40.883Z"
   },
   {
    "duration": 16,
    "start_time": "2023-06-19T13:14:12.279Z"
   },
   {
    "duration": 685,
    "start_time": "2023-06-19T13:14:12.297Z"
   },
   {
    "duration": 6192,
    "start_time": "2023-06-19T13:14:12.984Z"
   },
   {
    "duration": 46897,
    "start_time": "2023-06-19T13:14:19.178Z"
   },
   {
    "duration": 11,
    "start_time": "2023-06-19T13:15:06.077Z"
   },
   {
    "duration": 200706,
    "start_time": "2023-06-19T13:15:06.089Z"
   },
   {
    "duration": 19997,
    "start_time": "2023-06-19T13:18:26.797Z"
   },
   {
    "duration": 358361,
    "start_time": "2023-06-19T13:18:46.795Z"
   },
   {
    "duration": 17753,
    "start_time": "2023-06-19T13:24:45.158Z"
   },
   {
    "duration": 45,
    "start_time": "2023-06-19T13:26:52.303Z"
   },
   {
    "duration": 2905,
    "start_time": "2023-06-19T13:36:25.891Z"
   },
   {
    "duration": 2351,
    "start_time": "2023-06-19T13:36:28.798Z"
   },
   {
    "duration": 33,
    "start_time": "2023-06-19T13:36:31.151Z"
   },
   {
    "duration": 330,
    "start_time": "2023-06-19T13:36:31.186Z"
   },
   {
    "duration": 2128,
    "start_time": "2023-06-19T13:36:31.517Z"
   },
   {
    "duration": 6817,
    "start_time": "2023-06-19T13:36:33.647Z"
   },
   {
    "duration": 16,
    "start_time": "2023-06-19T13:36:40.465Z"
   },
   {
    "duration": 34,
    "start_time": "2023-06-19T13:36:40.482Z"
   },
   {
    "duration": 14,
    "start_time": "2023-06-19T13:36:40.518Z"
   },
   {
    "duration": 33,
    "start_time": "2023-06-19T13:36:40.534Z"
   },
   {
    "duration": 34,
    "start_time": "2023-06-19T13:36:40.569Z"
   },
   {
    "duration": 3757,
    "start_time": "2023-06-19T13:36:40.604Z"
   },
   {
    "duration": 24216,
    "start_time": "2023-06-19T13:36:44.363Z"
   },
   {
    "duration": 24895,
    "start_time": "2023-06-19T13:37:08.581Z"
   },
   {
    "duration": 22799,
    "start_time": "2023-06-19T13:37:33.477Z"
   },
   {
    "duration": 14,
    "start_time": "2023-06-19T13:37:56.277Z"
   },
   {
    "duration": 665,
    "start_time": "2023-06-19T13:37:56.293Z"
   },
   {
    "duration": 6817,
    "start_time": "2023-06-19T13:37:56.960Z"
   },
   {
    "duration": 45474,
    "start_time": "2023-06-19T13:38:03.779Z"
   },
   {
    "duration": 10,
    "start_time": "2023-06-19T13:38:49.255Z"
   },
   {
    "duration": 155221,
    "start_time": "2023-06-19T13:38:49.274Z"
   },
   {
    "duration": 17103,
    "start_time": "2023-06-19T13:41:24.497Z"
   },
   {
    "duration": 300344,
    "start_time": "2023-06-19T13:41:41.602Z"
   },
   {
    "duration": 12645,
    "start_time": "2023-06-19T13:46:41.947Z"
   },
   {
    "duration": 2730,
    "start_time": "2023-06-19T14:04:10.801Z"
   },
   {
    "duration": 2345,
    "start_time": "2023-06-19T14:04:13.533Z"
   },
   {
    "duration": 40,
    "start_time": "2023-06-19T14:04:15.879Z"
   },
   {
    "duration": 254,
    "start_time": "2023-06-19T14:04:15.921Z"
   },
   {
    "duration": 2050,
    "start_time": "2023-06-19T14:04:16.177Z"
   },
   {
    "duration": 6632,
    "start_time": "2023-06-19T14:04:18.228Z"
   },
   {
    "duration": 19,
    "start_time": "2023-06-19T14:04:24.862Z"
   },
   {
    "duration": 21,
    "start_time": "2023-06-19T14:04:24.883Z"
   },
   {
    "duration": 10,
    "start_time": "2023-06-19T14:04:24.905Z"
   },
   {
    "duration": 20,
    "start_time": "2023-06-19T14:04:24.918Z"
   },
   {
    "duration": 21,
    "start_time": "2023-06-19T14:04:24.939Z"
   },
   {
    "duration": 1961,
    "start_time": "2023-06-19T14:04:24.961Z"
   },
   {
    "duration": 10952,
    "start_time": "2023-06-19T14:04:26.924Z"
   },
   {
    "duration": 8696,
    "start_time": "2023-06-19T14:04:37.880Z"
   },
   {
    "duration": 7798,
    "start_time": "2023-06-19T14:04:46.579Z"
   },
   {
    "duration": 101,
    "start_time": "2023-06-19T14:04:54.381Z"
   },
   {
    "duration": 279,
    "start_time": "2023-06-19T14:04:54.483Z"
   },
   {
    "duration": 3813,
    "start_time": "2023-06-19T14:04:54.764Z"
   },
   {
    "duration": 16471,
    "start_time": "2023-06-19T14:04:58.581Z"
   },
   {
    "duration": 10,
    "start_time": "2023-06-19T14:05:15.053Z"
   },
   {
    "duration": 66518,
    "start_time": "2023-06-19T14:05:15.065Z"
   },
   {
    "duration": 6014,
    "start_time": "2023-06-19T14:06:21.675Z"
   },
   {
    "duration": 81301,
    "start_time": "2023-06-19T14:06:27.775Z"
   },
   {
    "duration": 2968,
    "start_time": "2023-06-19T14:07:49.078Z"
   },
   {
    "duration": 364857,
    "start_time": "2023-06-19T14:07:52.048Z"
   },
   {
    "duration": 10,
    "start_time": "2023-06-19T14:13:56.907Z"
   },
   {
    "duration": 6206,
    "start_time": "2023-06-19T14:13:56.918Z"
   },
   {
    "duration": 2742,
    "start_time": "2023-06-19T14:15:15.272Z"
   },
   {
    "duration": 2341,
    "start_time": "2023-06-19T14:15:18.016Z"
   },
   {
    "duration": 33,
    "start_time": "2023-06-19T14:15:20.359Z"
   },
   {
    "duration": 235,
    "start_time": "2023-06-19T14:15:20.394Z"
   },
   {
    "duration": 2033,
    "start_time": "2023-06-19T14:15:20.631Z"
   },
   {
    "duration": 6925,
    "start_time": "2023-06-19T14:15:22.667Z"
   },
   {
    "duration": 11,
    "start_time": "2023-06-19T14:15:29.594Z"
   },
   {
    "duration": 27,
    "start_time": "2023-06-19T14:15:29.607Z"
   },
   {
    "duration": 12,
    "start_time": "2023-06-19T14:15:29.636Z"
   },
   {
    "duration": 53,
    "start_time": "2023-06-19T14:15:29.650Z"
   },
   {
    "duration": 36,
    "start_time": "2023-06-19T14:15:29.705Z"
   },
   {
    "duration": 4180,
    "start_time": "2023-06-19T14:15:29.743Z"
   },
   {
    "duration": 19752,
    "start_time": "2023-06-19T14:15:33.925Z"
   },
   {
    "duration": 34797,
    "start_time": "2023-06-19T14:15:53.682Z"
   },
   {
    "duration": 19895,
    "start_time": "2023-06-19T14:16:28.481Z"
   },
   {
    "duration": 14,
    "start_time": "2023-06-19T14:16:48.378Z"
   },
   {
    "duration": 587,
    "start_time": "2023-06-19T14:16:48.394Z"
   },
   {
    "duration": 7702,
    "start_time": "2023-06-19T14:16:48.983Z"
   },
   {
    "duration": 43789,
    "start_time": "2023-06-19T14:16:56.776Z"
   },
   {
    "duration": 14,
    "start_time": "2023-06-19T14:17:40.567Z"
   },
   {
    "duration": 166608,
    "start_time": "2023-06-19T14:17:40.583Z"
   },
   {
    "duration": 17107,
    "start_time": "2023-06-19T14:20:27.193Z"
   },
   {
    "duration": 301923,
    "start_time": "2023-06-19T14:20:44.301Z"
   },
   {
    "duration": 14594,
    "start_time": "2023-06-19T14:25:46.226Z"
   },
   {
    "duration": 3391,
    "start_time": "2023-06-19T14:27:22.684Z"
   },
   {
    "duration": 2427,
    "start_time": "2023-06-19T14:27:26.077Z"
   },
   {
    "duration": 34,
    "start_time": "2023-06-19T14:27:28.506Z"
   },
   {
    "duration": 246,
    "start_time": "2023-06-19T14:27:28.542Z"
   },
   {
    "duration": 2117,
    "start_time": "2023-06-19T14:27:28.790Z"
   },
   {
    "duration": 6780,
    "start_time": "2023-06-19T14:27:30.908Z"
   },
   {
    "duration": 11,
    "start_time": "2023-06-19T14:27:37.689Z"
   },
   {
    "duration": 20,
    "start_time": "2023-06-19T14:27:37.702Z"
   },
   {
    "duration": 22,
    "start_time": "2023-06-19T14:27:37.724Z"
   },
   {
    "duration": 18,
    "start_time": "2023-06-19T14:27:37.749Z"
   },
   {
    "duration": 18,
    "start_time": "2023-06-19T14:27:37.768Z"
   },
   {
    "duration": 1827,
    "start_time": "2023-06-19T14:27:37.787Z"
   },
   {
    "duration": 10868,
    "start_time": "2023-06-19T14:27:39.616Z"
   },
   {
    "duration": 8500,
    "start_time": "2023-06-19T14:27:50.576Z"
   },
   {
    "duration": 7999,
    "start_time": "2023-06-19T14:27:59.078Z"
   },
   {
    "duration": 95,
    "start_time": "2023-06-19T14:28:07.080Z"
   },
   {
    "duration": 273,
    "start_time": "2023-06-19T14:28:07.177Z"
   },
   {
    "duration": 3825,
    "start_time": "2023-06-19T14:28:07.451Z"
   },
   {
    "duration": 16300,
    "start_time": "2023-06-19T14:28:11.279Z"
   },
   {
    "duration": 11,
    "start_time": "2023-06-19T14:28:27.580Z"
   },
   {
    "duration": 66089,
    "start_time": "2023-06-19T14:28:27.592Z"
   },
   {
    "duration": 5103,
    "start_time": "2023-06-19T14:29:33.683Z"
   },
   {
    "duration": 82299,
    "start_time": "2023-06-19T14:29:38.788Z"
   },
   {
    "duration": 3293,
    "start_time": "2023-06-19T14:31:01.089Z"
   },
   {
    "duration": 371639,
    "start_time": "2023-06-19T14:31:04.384Z"
   },
   {
    "duration": 10,
    "start_time": "2023-06-19T14:37:16.025Z"
   },
   {
    "duration": 5894,
    "start_time": "2023-06-19T14:37:16.037Z"
   },
   {
    "duration": 2394,
    "start_time": "2023-06-19T14:38:57.959Z"
   },
   {
    "duration": 2252,
    "start_time": "2023-06-19T14:39:00.355Z"
   },
   {
    "duration": 30,
    "start_time": "2023-06-19T14:39:02.608Z"
   },
   {
    "duration": 225,
    "start_time": "2023-06-19T14:39:02.640Z"
   },
   {
    "duration": 2122,
    "start_time": "2023-06-19T14:39:02.867Z"
   },
   {
    "duration": 6844,
    "start_time": "2023-06-19T14:39:04.991Z"
   },
   {
    "duration": 10,
    "start_time": "2023-06-19T14:39:11.837Z"
   },
   {
    "duration": 18,
    "start_time": "2023-06-19T14:39:11.849Z"
   },
   {
    "duration": 26,
    "start_time": "2023-06-19T14:39:11.870Z"
   },
   {
    "duration": 27,
    "start_time": "2023-06-19T14:39:11.898Z"
   },
   {
    "duration": 14,
    "start_time": "2023-06-19T14:39:11.926Z"
   },
   {
    "duration": 1501,
    "start_time": "2023-06-19T14:39:11.942Z"
   },
   {
    "duration": 8837,
    "start_time": "2023-06-19T14:39:13.445Z"
   },
   {
    "duration": 11899,
    "start_time": "2023-06-19T14:39:22.285Z"
   },
   {
    "duration": 5800,
    "start_time": "2023-06-19T14:39:34.276Z"
   },
   {
    "duration": 96,
    "start_time": "2023-06-19T14:39:40.079Z"
   },
   {
    "duration": 231,
    "start_time": "2023-06-19T14:39:40.177Z"
   },
   {
    "duration": 3268,
    "start_time": "2023-06-19T14:39:40.409Z"
   },
   {
    "duration": 17580,
    "start_time": "2023-06-19T14:39:43.679Z"
   },
   {
    "duration": 17,
    "start_time": "2023-06-19T14:40:01.260Z"
   },
   {
    "duration": 62398,
    "start_time": "2023-06-19T14:40:01.278Z"
   },
   {
    "duration": 1701,
    "start_time": "2023-06-19T14:41:03.679Z"
   },
   {
    "duration": 57665,
    "start_time": "2023-06-19T14:41:05.382Z"
   },
   {
    "duration": 2251,
    "start_time": "2023-06-19T14:42:03.049Z"
   },
   {
    "duration": 228059,
    "start_time": "2023-06-19T14:42:05.302Z"
   },
   {
    "duration": 14,
    "start_time": "2023-06-19T14:45:53.363Z"
   },
   {
    "duration": 2151,
    "start_time": "2023-06-19T14:45:53.378Z"
   },
   {
    "duration": 6,
    "start_time": "2023-06-19T15:08:24.443Z"
   },
   {
    "duration": 787,
    "start_time": "2023-06-19T15:08:25.040Z"
   },
   {
    "duration": 30,
    "start_time": "2023-06-19T15:08:26.741Z"
   },
   {
    "duration": 226,
    "start_time": "2023-06-19T15:08:27.664Z"
   },
   {
    "duration": 54,
    "start_time": "2023-06-19T15:08:32.770Z"
   },
   {
    "duration": 2974,
    "start_time": "2023-06-19T15:08:43.798Z"
   },
   {
    "duration": 2344,
    "start_time": "2023-06-19T15:08:46.774Z"
   },
   {
    "duration": 33,
    "start_time": "2023-06-19T15:08:49.119Z"
   },
   {
    "duration": 238,
    "start_time": "2023-06-19T15:08:49.154Z"
   },
   {
    "duration": 2125,
    "start_time": "2023-06-19T15:08:49.394Z"
   },
   {
    "duration": 6938,
    "start_time": "2023-06-19T15:08:51.520Z"
   },
   {
    "duration": 17,
    "start_time": "2023-06-19T15:08:58.459Z"
   },
   {
    "duration": 7,
    "start_time": "2023-06-19T15:08:58.479Z"
   },
   {
    "duration": 10,
    "start_time": "2023-06-19T15:08:58.489Z"
   },
   {
    "duration": 158,
    "start_time": "2023-06-19T15:08:58.503Z"
   },
   {
    "duration": 0,
    "start_time": "2023-06-19T15:08:58.664Z"
   },
   {
    "duration": 0,
    "start_time": "2023-06-19T15:08:58.665Z"
   },
   {
    "duration": 0,
    "start_time": "2023-06-19T15:08:58.666Z"
   },
   {
    "duration": 0,
    "start_time": "2023-06-19T15:08:58.675Z"
   },
   {
    "duration": 0,
    "start_time": "2023-06-19T15:08:58.676Z"
   },
   {
    "duration": 0,
    "start_time": "2023-06-19T15:08:58.677Z"
   },
   {
    "duration": 0,
    "start_time": "2023-06-19T15:08:58.678Z"
   },
   {
    "duration": 0,
    "start_time": "2023-06-19T15:08:58.680Z"
   },
   {
    "duration": 0,
    "start_time": "2023-06-19T15:08:58.681Z"
   },
   {
    "duration": 0,
    "start_time": "2023-06-19T15:08:58.682Z"
   },
   {
    "duration": 0,
    "start_time": "2023-06-19T15:08:58.683Z"
   },
   {
    "duration": 1,
    "start_time": "2023-06-19T15:08:58.684Z"
   },
   {
    "duration": 0,
    "start_time": "2023-06-19T15:08:58.686Z"
   },
   {
    "duration": 0,
    "start_time": "2023-06-19T15:08:58.687Z"
   },
   {
    "duration": 0,
    "start_time": "2023-06-19T15:08:58.688Z"
   },
   {
    "duration": 0,
    "start_time": "2023-06-19T15:08:58.689Z"
   },
   {
    "duration": 0,
    "start_time": "2023-06-19T15:08:58.690Z"
   },
   {
    "duration": 223,
    "start_time": "2023-06-19T15:09:55.735Z"
   },
   {
    "duration": 2545,
    "start_time": "2023-06-19T15:10:31.860Z"
   },
   {
    "duration": 10,
    "start_time": "2023-06-19T15:11:09.740Z"
   },
   {
    "duration": 17,
    "start_time": "2023-06-19T15:13:23.492Z"
   },
   {
    "duration": 10,
    "start_time": "2023-06-19T15:13:53.446Z"
   },
   {
    "duration": 22,
    "start_time": "2023-06-19T15:22:58.593Z"
   },
   {
    "duration": 634,
    "start_time": "2023-06-19T15:24:04.233Z"
   },
   {
    "duration": 1382,
    "start_time": "2023-06-19T15:24:13.725Z"
   },
   {
    "duration": 937,
    "start_time": "2023-06-19T15:24:15.109Z"
   },
   {
    "duration": 44,
    "start_time": "2023-06-19T15:24:16.048Z"
   },
   {
    "duration": 270,
    "start_time": "2023-06-19T15:24:16.094Z"
   },
   {
    "duration": 2133,
    "start_time": "2023-06-19T15:24:16.367Z"
   },
   {
    "duration": 7025,
    "start_time": "2023-06-19T15:24:18.502Z"
   },
   {
    "duration": 10,
    "start_time": "2023-06-19T15:24:25.528Z"
   },
   {
    "duration": 41,
    "start_time": "2023-06-19T15:24:25.539Z"
   },
   {
    "duration": 43,
    "start_time": "2023-06-19T15:24:25.581Z"
   },
   {
    "duration": 104,
    "start_time": "2023-06-19T15:24:25.627Z"
   },
   {
    "duration": 21,
    "start_time": "2023-06-19T15:24:25.733Z"
   },
   {
    "duration": 1981,
    "start_time": "2023-06-19T15:24:25.756Z"
   },
   {
    "duration": 16238,
    "start_time": "2023-06-19T15:24:27.739Z"
   },
   {
    "duration": 9999,
    "start_time": "2023-06-19T15:24:43.979Z"
   },
   {
    "duration": 8995,
    "start_time": "2023-06-19T15:24:53.981Z"
   },
   {
    "duration": 10,
    "start_time": "2023-06-19T15:25:02.978Z"
   },
   {
    "duration": 304,
    "start_time": "2023-06-19T15:25:02.989Z"
   },
   {
    "duration": 5381,
    "start_time": "2023-06-19T15:25:03.295Z"
   },
   {
    "duration": 18476,
    "start_time": "2023-06-19T15:25:08.678Z"
   },
   {
    "duration": 21,
    "start_time": "2023-06-19T15:25:27.156Z"
   },
   {
    "duration": 83620,
    "start_time": "2023-06-19T15:25:27.178Z"
   },
   {
    "duration": 7176,
    "start_time": "2023-06-19T15:26:50.800Z"
   },
   {
    "duration": 89564,
    "start_time": "2023-06-19T15:26:57.979Z"
   },
   {
    "duration": 4021,
    "start_time": "2023-06-19T15:28:27.545Z"
   },
   {
    "duration": 368984,
    "start_time": "2023-06-19T15:28:31.576Z"
   },
   {
    "duration": 23,
    "start_time": "2023-06-19T15:34:40.562Z"
   },
   {
    "duration": 10076,
    "start_time": "2023-06-19T15:34:40.587Z"
   },
   {
    "duration": 46,
    "start_time": "2023-06-20T16:35:59.891Z"
   },
   {
    "duration": 2658,
    "start_time": "2023-06-20T16:36:02.769Z"
   },
   {
    "duration": 5332,
    "start_time": "2023-06-20T16:36:07.201Z"
   },
   {
    "duration": 42,
    "start_time": "2023-06-20T16:49:20.432Z"
   },
   {
    "duration": 242,
    "start_time": "2023-06-20T16:49:22.684Z"
   },
   {
    "duration": 2,
    "start_time": "2023-06-20T16:49:24.919Z"
   },
   {
    "duration": 7605,
    "start_time": "2023-06-20T16:52:39.881Z"
   },
   {
    "duration": 83,
    "start_time": "2023-06-20T16:53:31.852Z"
   },
   {
    "duration": 116,
    "start_time": "2023-06-20T17:10:55.283Z"
   },
   {
    "duration": 90,
    "start_time": "2023-06-20T17:11:19.530Z"
   },
   {
    "duration": 97,
    "start_time": "2023-06-20T17:11:38.534Z"
   },
   {
    "duration": 34,
    "start_time": "2023-06-20T17:13:07.554Z"
   },
   {
    "duration": 43,
    "start_time": "2023-06-20T17:14:12.454Z"
   },
   {
    "duration": 22,
    "start_time": "2023-06-20T17:14:21.280Z"
   },
   {
    "duration": 29,
    "start_time": "2023-06-20T17:15:00.976Z"
   },
   {
    "duration": 80,
    "start_time": "2023-06-20T17:20:10.318Z"
   },
   {
    "duration": 96,
    "start_time": "2023-06-20T17:23:10.247Z"
   },
   {
    "duration": 1279,
    "start_time": "2023-06-20T17:23:26.774Z"
   },
   {
    "duration": 113,
    "start_time": "2023-06-20T17:25:49.769Z"
   },
   {
    "duration": 1225,
    "start_time": "2023-06-20T17:26:01.075Z"
   },
   {
    "duration": 12763,
    "start_time": "2023-06-20T17:28:50.046Z"
   },
   {
    "duration": 11170,
    "start_time": "2023-06-20T17:30:42.334Z"
   },
   {
    "duration": 9753,
    "start_time": "2023-06-20T17:31:52.775Z"
   },
   {
    "duration": 10176,
    "start_time": "2023-06-20T17:32:59.409Z"
   },
   {
    "duration": 10043,
    "start_time": "2023-06-20T17:33:35.936Z"
   },
   {
    "duration": 9888,
    "start_time": "2023-06-20T17:34:01.671Z"
   },
   {
    "duration": 179,
    "start_time": "2023-06-20T17:34:18.154Z"
   },
   {
    "duration": 2111,
    "start_time": "2023-06-21T05:17:10.744Z"
   },
   {
    "duration": 4949,
    "start_time": "2023-06-21T05:17:12.858Z"
   },
   {
    "duration": 41,
    "start_time": "2023-06-21T05:17:17.809Z"
   },
   {
    "duration": 268,
    "start_time": "2023-06-21T05:17:17.854Z"
   },
   {
    "duration": 15,
    "start_time": "2023-06-21T05:17:18.135Z"
   },
   {
    "duration": 8417,
    "start_time": "2023-06-21T05:17:18.155Z"
   },
   {
    "duration": 6433,
    "start_time": "2023-06-21T05:17:26.574Z"
   },
   {
    "duration": 0,
    "start_time": "2023-06-21T05:17:33.010Z"
   },
   {
    "duration": 0,
    "start_time": "2023-06-21T05:17:33.011Z"
   },
   {
    "duration": 0,
    "start_time": "2023-06-21T05:17:33.013Z"
   },
   {
    "duration": 0,
    "start_time": "2023-06-21T05:17:33.014Z"
   },
   {
    "duration": 0,
    "start_time": "2023-06-21T05:17:33.015Z"
   },
   {
    "duration": 0,
    "start_time": "2023-06-21T05:17:33.018Z"
   },
   {
    "duration": 0,
    "start_time": "2023-06-21T05:17:33.019Z"
   },
   {
    "duration": 0,
    "start_time": "2023-06-21T05:17:33.020Z"
   },
   {
    "duration": 0,
    "start_time": "2023-06-21T05:17:33.021Z"
   },
   {
    "duration": 0,
    "start_time": "2023-06-21T05:17:33.023Z"
   },
   {
    "duration": 0,
    "start_time": "2023-06-21T05:17:33.024Z"
   },
   {
    "duration": 0,
    "start_time": "2023-06-21T05:17:33.025Z"
   },
   {
    "duration": 0,
    "start_time": "2023-06-21T05:17:33.027Z"
   },
   {
    "duration": 0,
    "start_time": "2023-06-21T05:17:33.028Z"
   },
   {
    "duration": 0,
    "start_time": "2023-06-21T05:17:33.029Z"
   },
   {
    "duration": 1,
    "start_time": "2023-06-21T05:17:33.030Z"
   },
   {
    "duration": 0,
    "start_time": "2023-06-21T05:17:33.032Z"
   },
   {
    "duration": 0,
    "start_time": "2023-06-21T05:17:33.033Z"
   },
   {
    "duration": 0,
    "start_time": "2023-06-21T05:17:33.035Z"
   },
   {
    "duration": 0,
    "start_time": "2023-06-21T05:17:33.036Z"
   },
   {
    "duration": 1739,
    "start_time": "2023-06-21T05:18:02.849Z"
   },
   {
    "duration": 932,
    "start_time": "2023-06-21T05:18:04.590Z"
   },
   {
    "duration": 37,
    "start_time": "2023-06-21T05:18:05.530Z"
   },
   {
    "duration": 351,
    "start_time": "2023-06-21T05:18:05.570Z"
   },
   {
    "duration": 5,
    "start_time": "2023-06-21T05:18:05.923Z"
   },
   {
    "duration": 21,
    "start_time": "2023-06-21T05:18:05.935Z"
   },
   {
    "duration": 3578,
    "start_time": "2023-06-21T05:18:05.960Z"
   },
   {
    "duration": 0,
    "start_time": "2023-06-21T05:18:09.540Z"
   },
   {
    "duration": 0,
    "start_time": "2023-06-21T05:18:09.541Z"
   },
   {
    "duration": 0,
    "start_time": "2023-06-21T05:18:09.541Z"
   },
   {
    "duration": 0,
    "start_time": "2023-06-21T05:18:09.542Z"
   },
   {
    "duration": 0,
    "start_time": "2023-06-21T05:18:09.543Z"
   },
   {
    "duration": 0,
    "start_time": "2023-06-21T05:18:09.544Z"
   },
   {
    "duration": 0,
    "start_time": "2023-06-21T05:18:09.545Z"
   },
   {
    "duration": 0,
    "start_time": "2023-06-21T05:18:09.546Z"
   },
   {
    "duration": 0,
    "start_time": "2023-06-21T05:18:09.547Z"
   },
   {
    "duration": 0,
    "start_time": "2023-06-21T05:18:09.548Z"
   },
   {
    "duration": 0,
    "start_time": "2023-06-21T05:18:09.552Z"
   },
   {
    "duration": 0,
    "start_time": "2023-06-21T05:18:09.553Z"
   },
   {
    "duration": 0,
    "start_time": "2023-06-21T05:18:09.554Z"
   },
   {
    "duration": 0,
    "start_time": "2023-06-21T05:18:09.555Z"
   },
   {
    "duration": 0,
    "start_time": "2023-06-21T05:18:09.556Z"
   },
   {
    "duration": 0,
    "start_time": "2023-06-21T05:18:09.557Z"
   },
   {
    "duration": 0,
    "start_time": "2023-06-21T05:18:09.558Z"
   },
   {
    "duration": 0,
    "start_time": "2023-06-21T05:18:09.559Z"
   },
   {
    "duration": 0,
    "start_time": "2023-06-21T05:18:09.560Z"
   },
   {
    "duration": 0,
    "start_time": "2023-06-21T05:18:09.561Z"
   },
   {
    "duration": 193,
    "start_time": "2023-06-21T05:18:31.433Z"
   },
   {
    "duration": 185,
    "start_time": "2023-06-21T05:18:52.240Z"
   },
   {
    "duration": 9392,
    "start_time": "2023-06-21T05:31:01.746Z"
   },
   {
    "duration": 10,
    "start_time": "2023-06-21T05:32:25.164Z"
   },
   {
    "duration": 7,
    "start_time": "2023-06-21T05:33:43.574Z"
   },
   {
    "duration": 10,
    "start_time": "2023-06-21T05:33:44.645Z"
   },
   {
    "duration": 49,
    "start_time": "2023-06-21T05:33:45.710Z"
   },
   {
    "duration": 4,
    "start_time": "2023-06-21T05:38:17.822Z"
   },
   {
    "duration": 1548,
    "start_time": "2023-06-21T05:38:19.050Z"
   },
   {
    "duration": 1617,
    "start_time": "2023-06-21T05:38:35.745Z"
   },
   {
    "duration": 947,
    "start_time": "2023-06-21T05:38:37.364Z"
   },
   {
    "duration": 38,
    "start_time": "2023-06-21T05:38:38.323Z"
   },
   {
    "duration": 245,
    "start_time": "2023-06-21T05:38:38.362Z"
   },
   {
    "duration": 10,
    "start_time": "2023-06-21T05:38:38.609Z"
   },
   {
    "duration": 20,
    "start_time": "2023-06-21T05:38:38.621Z"
   },
   {
    "duration": 5525,
    "start_time": "2023-06-21T05:38:38.643Z"
   },
   {
    "duration": 7723,
    "start_time": "2023-06-21T05:38:44.170Z"
   },
   {
    "duration": 7,
    "start_time": "2023-06-21T05:38:51.895Z"
   },
   {
    "duration": 35,
    "start_time": "2023-06-21T05:38:51.904Z"
   },
   {
    "duration": 23,
    "start_time": "2023-06-21T05:38:51.946Z"
   },
   {
    "duration": 17,
    "start_time": "2023-06-21T05:38:51.971Z"
   },
   {
    "duration": 79,
    "start_time": "2023-06-21T05:38:51.990Z"
   },
   {
    "duration": 8944,
    "start_time": "2023-06-21T05:38:52.074Z"
   },
   {
    "duration": 66001,
    "start_time": "2023-06-21T05:39:01.020Z"
   },
   {
    "duration": 64756,
    "start_time": "2023-06-21T05:40:07.026Z"
   },
   {
    "duration": 60890,
    "start_time": "2023-06-21T05:41:11.784Z"
   },
   {
    "duration": 255,
    "start_time": "2023-06-21T05:42:12.676Z"
   },
   {
    "duration": 0,
    "start_time": "2023-06-21T05:42:12.933Z"
   },
   {
    "duration": 0,
    "start_time": "2023-06-21T05:42:12.934Z"
   },
   {
    "duration": 0,
    "start_time": "2023-06-21T05:42:12.935Z"
   },
   {
    "duration": 0,
    "start_time": "2023-06-21T05:42:12.936Z"
   },
   {
    "duration": 0,
    "start_time": "2023-06-21T05:42:12.939Z"
   },
   {
    "duration": 0,
    "start_time": "2023-06-21T05:42:12.940Z"
   },
   {
    "duration": 0,
    "start_time": "2023-06-21T05:42:12.942Z"
   },
   {
    "duration": 0,
    "start_time": "2023-06-21T05:42:12.943Z"
   },
   {
    "duration": 0,
    "start_time": "2023-06-21T05:42:12.950Z"
   },
   {
    "duration": 0,
    "start_time": "2023-06-21T05:42:12.951Z"
   },
   {
    "duration": 0,
    "start_time": "2023-06-21T05:42:12.956Z"
   },
   {
    "duration": 4,
    "start_time": "2023-06-21T05:49:42.582Z"
   },
   {
    "duration": 1574,
    "start_time": "2023-06-21T05:49:50.856Z"
   },
   {
    "duration": 996,
    "start_time": "2023-06-21T05:49:52.432Z"
   },
   {
    "duration": 49,
    "start_time": "2023-06-21T05:49:53.430Z"
   },
   {
    "duration": 303,
    "start_time": "2023-06-21T05:49:53.482Z"
   },
   {
    "duration": 2,
    "start_time": "2023-06-21T05:49:53.787Z"
   },
   {
    "duration": 86,
    "start_time": "2023-06-21T05:49:53.791Z"
   },
   {
    "duration": 5528,
    "start_time": "2023-06-21T05:49:53.879Z"
   },
   {
    "duration": 11,
    "start_time": "2023-06-21T05:49:59.408Z"
   },
   {
    "duration": 36,
    "start_time": "2023-06-21T05:49:59.421Z"
   },
   {
    "duration": 845,
    "start_time": "2023-06-21T05:49:59.460Z"
   },
   {
    "duration": 16,
    "start_time": "2023-06-21T05:50:00.306Z"
   },
   {
    "duration": 69,
    "start_time": "2023-06-21T05:50:00.324Z"
   },
   {
    "duration": 49,
    "start_time": "2023-06-21T05:50:00.395Z"
   },
   {
    "duration": 19,
    "start_time": "2023-06-21T05:50:00.450Z"
   },
   {
    "duration": 210,
    "start_time": "2023-06-21T05:50:00.471Z"
   },
   {
    "duration": 609,
    "start_time": "2023-06-21T05:50:00.683Z"
   },
   {
    "duration": 253,
    "start_time": "2023-06-21T05:50:01.294Z"
   },
   {
    "duration": 145,
    "start_time": "2023-06-21T05:50:01.549Z"
   },
   {
    "duration": 99,
    "start_time": "2023-06-21T05:50:01.696Z"
   },
   {
    "duration": 0,
    "start_time": "2023-06-21T05:50:01.796Z"
   },
   {
    "duration": 0,
    "start_time": "2023-06-21T05:50:01.797Z"
   },
   {
    "duration": 1,
    "start_time": "2023-06-21T05:50:01.798Z"
   },
   {
    "duration": 0,
    "start_time": "2023-06-21T05:50:01.800Z"
   },
   {
    "duration": 0,
    "start_time": "2023-06-21T05:50:01.801Z"
   },
   {
    "duration": 0,
    "start_time": "2023-06-21T05:50:01.803Z"
   },
   {
    "duration": 0,
    "start_time": "2023-06-21T05:50:01.804Z"
   },
   {
    "duration": 0,
    "start_time": "2023-06-21T05:50:01.805Z"
   },
   {
    "duration": 0,
    "start_time": "2023-06-21T05:50:01.806Z"
   },
   {
    "duration": 0,
    "start_time": "2023-06-21T05:50:01.807Z"
   },
   {
    "duration": 0,
    "start_time": "2023-06-21T05:50:01.808Z"
   },
   {
    "duration": 0,
    "start_time": "2023-06-21T05:50:01.809Z"
   },
   {
    "duration": 31,
    "start_time": "2023-06-21T05:52:44.971Z"
   },
   {
    "duration": 31,
    "start_time": "2023-06-21T05:53:22.210Z"
   },
   {
    "duration": 1743,
    "start_time": "2023-06-21T05:54:06.246Z"
   },
   {
    "duration": 1019,
    "start_time": "2023-06-21T05:54:07.993Z"
   },
   {
    "duration": 40,
    "start_time": "2023-06-21T05:54:09.019Z"
   },
   {
    "duration": 244,
    "start_time": "2023-06-21T05:54:09.061Z"
   },
   {
    "duration": 4,
    "start_time": "2023-06-21T05:54:09.313Z"
   },
   {
    "duration": 37,
    "start_time": "2023-06-21T05:54:09.325Z"
   },
   {
    "duration": 5371,
    "start_time": "2023-06-21T05:54:09.363Z"
   },
   {
    "duration": 15,
    "start_time": "2023-06-21T05:54:14.737Z"
   },
   {
    "duration": 25,
    "start_time": "2023-06-21T05:54:14.755Z"
   },
   {
    "duration": 697,
    "start_time": "2023-06-21T05:54:14.783Z"
   },
   {
    "duration": 8,
    "start_time": "2023-06-21T05:54:15.482Z"
   },
   {
    "duration": 12,
    "start_time": "2023-06-21T05:54:15.493Z"
   },
   {
    "duration": 36,
    "start_time": "2023-06-21T05:54:15.508Z"
   },
   {
    "duration": 37,
    "start_time": "2023-06-21T05:54:15.547Z"
   },
   {
    "duration": 39,
    "start_time": "2023-06-21T05:54:15.586Z"
   },
   {
    "duration": 61,
    "start_time": "2023-06-21T05:54:15.627Z"
   },
   {
    "duration": 6,
    "start_time": "2023-06-21T05:54:15.689Z"
   },
   {
    "duration": 83,
    "start_time": "2023-06-21T05:54:15.696Z"
   },
   {
    "duration": 38,
    "start_time": "2023-06-21T05:54:15.781Z"
   },
   {
    "duration": 0,
    "start_time": "2023-06-21T05:54:15.827Z"
   },
   {
    "duration": 0,
    "start_time": "2023-06-21T05:54:15.830Z"
   },
   {
    "duration": 0,
    "start_time": "2023-06-21T05:54:15.831Z"
   },
   {
    "duration": 0,
    "start_time": "2023-06-21T05:54:15.832Z"
   },
   {
    "duration": 0,
    "start_time": "2023-06-21T05:54:15.836Z"
   },
   {
    "duration": 0,
    "start_time": "2023-06-21T05:54:15.837Z"
   },
   {
    "duration": 0,
    "start_time": "2023-06-21T05:54:15.838Z"
   },
   {
    "duration": 0,
    "start_time": "2023-06-21T05:54:15.838Z"
   },
   {
    "duration": 0,
    "start_time": "2023-06-21T05:54:15.842Z"
   },
   {
    "duration": 0,
    "start_time": "2023-06-21T05:54:15.842Z"
   },
   {
    "duration": 0,
    "start_time": "2023-06-21T05:54:15.843Z"
   },
   {
    "duration": 0,
    "start_time": "2023-06-21T05:54:15.844Z"
   },
   {
    "duration": 1636,
    "start_time": "2023-06-21T05:54:50.650Z"
   },
   {
    "duration": 994,
    "start_time": "2023-06-21T05:54:52.288Z"
   },
   {
    "duration": 48,
    "start_time": "2023-06-21T05:54:53.284Z"
   },
   {
    "duration": 303,
    "start_time": "2023-06-21T05:54:53.334Z"
   },
   {
    "duration": 7,
    "start_time": "2023-06-21T05:54:53.646Z"
   },
   {
    "duration": 39,
    "start_time": "2023-06-21T05:54:53.659Z"
   },
   {
    "duration": 5325,
    "start_time": "2023-06-21T05:54:53.700Z"
   },
   {
    "duration": 13,
    "start_time": "2023-06-21T05:54:59.027Z"
   },
   {
    "duration": 28,
    "start_time": "2023-06-21T05:54:59.043Z"
   },
   {
    "duration": 720,
    "start_time": "2023-06-21T05:54:59.073Z"
   },
   {
    "duration": 11,
    "start_time": "2023-06-21T05:54:59.796Z"
   },
   {
    "duration": 18,
    "start_time": "2023-06-21T05:54:59.808Z"
   },
   {
    "duration": 16,
    "start_time": "2023-06-21T05:54:59.833Z"
   },
   {
    "duration": 5,
    "start_time": "2023-06-21T05:54:59.856Z"
   },
   {
    "duration": 7,
    "start_time": "2023-06-21T05:54:59.863Z"
   },
   {
    "duration": 95,
    "start_time": "2023-06-21T05:54:59.872Z"
   },
   {
    "duration": 8,
    "start_time": "2023-06-21T05:54:59.969Z"
   },
   {
    "duration": 113,
    "start_time": "2023-06-21T05:54:59.980Z"
   },
   {
    "duration": 56,
    "start_time": "2023-06-21T05:55:00.095Z"
   },
   {
    "duration": 0,
    "start_time": "2023-06-21T05:55:00.154Z"
   },
   {
    "duration": 0,
    "start_time": "2023-06-21T05:55:00.155Z"
   },
   {
    "duration": 0,
    "start_time": "2023-06-21T05:55:00.156Z"
   },
   {
    "duration": 0,
    "start_time": "2023-06-21T05:55:00.158Z"
   },
   {
    "duration": 0,
    "start_time": "2023-06-21T05:55:00.159Z"
   },
   {
    "duration": 0,
    "start_time": "2023-06-21T05:55:00.160Z"
   },
   {
    "duration": 0,
    "start_time": "2023-06-21T05:55:00.162Z"
   },
   {
    "duration": 0,
    "start_time": "2023-06-21T05:55:00.163Z"
   },
   {
    "duration": 0,
    "start_time": "2023-06-21T05:55:00.164Z"
   },
   {
    "duration": 0,
    "start_time": "2023-06-21T05:55:00.166Z"
   },
   {
    "duration": 0,
    "start_time": "2023-06-21T05:55:00.168Z"
   },
   {
    "duration": 0,
    "start_time": "2023-06-21T05:55:00.169Z"
   },
   {
    "duration": 16,
    "start_time": "2023-06-21T05:58:06.209Z"
   },
   {
    "duration": 6,
    "start_time": "2023-06-21T05:58:11.850Z"
   },
   {
    "duration": 861,
    "start_time": "2023-06-21T05:58:17.639Z"
   },
   {
    "duration": 322,
    "start_time": "2023-06-21T05:58:20.750Z"
   },
   {
    "duration": 22,
    "start_time": "2023-06-21T06:00:37.469Z"
   },
   {
    "duration": 1642,
    "start_time": "2023-06-21T06:01:22.469Z"
   },
   {
    "duration": 1032,
    "start_time": "2023-06-21T06:01:24.120Z"
   },
   {
    "duration": 352,
    "start_time": "2023-06-21T06:01:25.154Z"
   },
   {
    "duration": 9,
    "start_time": "2023-06-21T06:01:25.514Z"
   },
   {
    "duration": 170,
    "start_time": "2023-06-21T06:01:25.525Z"
   },
   {
    "duration": 0,
    "start_time": "2023-06-21T06:01:25.698Z"
   },
   {
    "duration": 0,
    "start_time": "2023-06-21T06:01:25.699Z"
   },
   {
    "duration": 0,
    "start_time": "2023-06-21T06:01:25.701Z"
   },
   {
    "duration": 0,
    "start_time": "2023-06-21T06:01:25.702Z"
   },
   {
    "duration": 0,
    "start_time": "2023-06-21T06:01:25.713Z"
   },
   {
    "duration": 0,
    "start_time": "2023-06-21T06:01:25.718Z"
   },
   {
    "duration": 0,
    "start_time": "2023-06-21T06:01:25.720Z"
   },
   {
    "duration": 0,
    "start_time": "2023-06-21T06:01:25.721Z"
   },
   {
    "duration": 0,
    "start_time": "2023-06-21T06:01:25.722Z"
   },
   {
    "duration": 0,
    "start_time": "2023-06-21T06:01:25.723Z"
   },
   {
    "duration": 0,
    "start_time": "2023-06-21T06:01:25.724Z"
   },
   {
    "duration": 0,
    "start_time": "2023-06-21T06:01:25.725Z"
   },
   {
    "duration": 0,
    "start_time": "2023-06-21T06:01:25.726Z"
   },
   {
    "duration": 0,
    "start_time": "2023-06-21T06:01:25.727Z"
   },
   {
    "duration": 0,
    "start_time": "2023-06-21T06:01:25.728Z"
   },
   {
    "duration": 0,
    "start_time": "2023-06-21T06:01:25.729Z"
   },
   {
    "duration": 0,
    "start_time": "2023-06-21T06:01:25.730Z"
   },
   {
    "duration": 0,
    "start_time": "2023-06-21T06:01:25.731Z"
   },
   {
    "duration": 0,
    "start_time": "2023-06-21T06:01:25.732Z"
   },
   {
    "duration": 0,
    "start_time": "2023-06-21T06:01:25.733Z"
   },
   {
    "duration": 0,
    "start_time": "2023-06-21T06:01:25.734Z"
   },
   {
    "duration": 0,
    "start_time": "2023-06-21T06:01:25.735Z"
   },
   {
    "duration": 0,
    "start_time": "2023-06-21T06:01:25.736Z"
   },
   {
    "duration": 0,
    "start_time": "2023-06-21T06:01:25.737Z"
   },
   {
    "duration": 0,
    "start_time": "2023-06-21T06:01:25.739Z"
   },
   {
    "duration": 0,
    "start_time": "2023-06-21T06:01:25.740Z"
   },
   {
    "duration": 1714,
    "start_time": "2023-06-21T06:02:17.841Z"
   },
   {
    "duration": 1063,
    "start_time": "2023-06-21T06:02:19.557Z"
   },
   {
    "duration": 366,
    "start_time": "2023-06-21T06:02:20.622Z"
   },
   {
    "duration": 2,
    "start_time": "2023-06-21T06:02:20.990Z"
   },
   {
    "duration": 42,
    "start_time": "2023-06-21T06:02:21.013Z"
   },
   {
    "duration": 96,
    "start_time": "2023-06-21T06:02:21.059Z"
   },
   {
    "duration": 5424,
    "start_time": "2023-06-21T06:02:21.157Z"
   },
   {
    "duration": 8,
    "start_time": "2023-06-21T06:02:26.583Z"
   },
   {
    "duration": 19,
    "start_time": "2023-06-21T06:02:26.593Z"
   },
   {
    "duration": 770,
    "start_time": "2023-06-21T06:02:26.617Z"
   },
   {
    "duration": 14,
    "start_time": "2023-06-21T06:02:27.389Z"
   },
   {
    "duration": 0,
    "start_time": "2023-06-21T06:02:27.405Z"
   },
   {
    "duration": 0,
    "start_time": "2023-06-21T06:02:27.406Z"
   },
   {
    "duration": 0,
    "start_time": "2023-06-21T06:02:27.407Z"
   },
   {
    "duration": 0,
    "start_time": "2023-06-21T06:02:27.408Z"
   },
   {
    "duration": 0,
    "start_time": "2023-06-21T06:02:27.409Z"
   },
   {
    "duration": 0,
    "start_time": "2023-06-21T06:02:27.410Z"
   },
   {
    "duration": 0,
    "start_time": "2023-06-21T06:02:27.411Z"
   },
   {
    "duration": 0,
    "start_time": "2023-06-21T06:02:27.412Z"
   },
   {
    "duration": 0,
    "start_time": "2023-06-21T06:02:27.414Z"
   },
   {
    "duration": 0,
    "start_time": "2023-06-21T06:02:27.414Z"
   },
   {
    "duration": 0,
    "start_time": "2023-06-21T06:02:27.415Z"
   },
   {
    "duration": 0,
    "start_time": "2023-06-21T06:02:27.416Z"
   },
   {
    "duration": 0,
    "start_time": "2023-06-21T06:02:27.422Z"
   },
   {
    "duration": 0,
    "start_time": "2023-06-21T06:02:27.423Z"
   },
   {
    "duration": 0,
    "start_time": "2023-06-21T06:02:27.424Z"
   },
   {
    "duration": 0,
    "start_time": "2023-06-21T06:02:27.425Z"
   },
   {
    "duration": 0,
    "start_time": "2023-06-21T06:02:27.426Z"
   },
   {
    "duration": 0,
    "start_time": "2023-06-21T06:02:27.427Z"
   },
   {
    "duration": 0,
    "start_time": "2023-06-21T06:02:27.428Z"
   },
   {
    "duration": 0,
    "start_time": "2023-06-21T06:02:27.437Z"
   },
   {
    "duration": 509,
    "start_time": "2023-06-21T06:02:51.642Z"
   },
   {
    "duration": 8,
    "start_time": "2023-06-21T06:03:22.245Z"
   },
   {
    "duration": 1826,
    "start_time": "2023-06-21T06:03:29.296Z"
   },
   {
    "duration": 1003,
    "start_time": "2023-06-21T06:03:31.124Z"
   },
   {
    "duration": 431,
    "start_time": "2023-06-21T06:03:32.129Z"
   },
   {
    "duration": 21,
    "start_time": "2023-06-21T06:03:32.564Z"
   },
   {
    "duration": 289,
    "start_time": "2023-06-21T06:03:32.589Z"
   },
   {
    "duration": 19,
    "start_time": "2023-06-21T06:03:32.881Z"
   },
   {
    "duration": 6023,
    "start_time": "2023-06-21T06:03:32.902Z"
   },
   {
    "duration": 30,
    "start_time": "2023-06-21T06:03:38.926Z"
   },
   {
    "duration": 17,
    "start_time": "2023-06-21T06:03:38.959Z"
   },
   {
    "duration": 665,
    "start_time": "2023-06-21T06:03:38.978Z"
   },
   {
    "duration": 24,
    "start_time": "2023-06-21T06:03:39.653Z"
   },
   {
    "duration": 0,
    "start_time": "2023-06-21T06:03:39.680Z"
   },
   {
    "duration": 0,
    "start_time": "2023-06-21T06:03:39.682Z"
   },
   {
    "duration": 0,
    "start_time": "2023-06-21T06:03:39.684Z"
   },
   {
    "duration": 0,
    "start_time": "2023-06-21T06:03:39.685Z"
   },
   {
    "duration": 0,
    "start_time": "2023-06-21T06:03:39.687Z"
   },
   {
    "duration": 0,
    "start_time": "2023-06-21T06:03:39.689Z"
   },
   {
    "duration": 0,
    "start_time": "2023-06-21T06:03:39.691Z"
   },
   {
    "duration": 0,
    "start_time": "2023-06-21T06:03:39.692Z"
   },
   {
    "duration": 0,
    "start_time": "2023-06-21T06:03:39.694Z"
   },
   {
    "duration": 1,
    "start_time": "2023-06-21T06:03:39.695Z"
   },
   {
    "duration": 0,
    "start_time": "2023-06-21T06:03:39.697Z"
   },
   {
    "duration": 0,
    "start_time": "2023-06-21T06:03:39.698Z"
   },
   {
    "duration": 0,
    "start_time": "2023-06-21T06:03:39.700Z"
   },
   {
    "duration": 0,
    "start_time": "2023-06-21T06:03:39.702Z"
   },
   {
    "duration": 0,
    "start_time": "2023-06-21T06:03:39.703Z"
   },
   {
    "duration": 0,
    "start_time": "2023-06-21T06:03:39.705Z"
   },
   {
    "duration": 0,
    "start_time": "2023-06-21T06:03:39.714Z"
   },
   {
    "duration": 0,
    "start_time": "2023-06-21T06:03:39.715Z"
   },
   {
    "duration": 0,
    "start_time": "2023-06-21T06:03:39.716Z"
   },
   {
    "duration": 0,
    "start_time": "2023-06-21T06:03:39.716Z"
   },
   {
    "duration": 1268,
    "start_time": "2023-06-21T06:04:32.804Z"
   },
   {
    "duration": 1659,
    "start_time": "2023-06-21T06:12:59.684Z"
   },
   {
    "duration": 997,
    "start_time": "2023-06-21T06:13:01.345Z"
   },
   {
    "duration": 360,
    "start_time": "2023-06-21T06:13:02.346Z"
   },
   {
    "duration": 10,
    "start_time": "2023-06-21T06:13:02.721Z"
   },
   {
    "duration": 26,
    "start_time": "2023-06-21T06:13:02.738Z"
   },
   {
    "duration": 12,
    "start_time": "2023-06-21T06:13:02.765Z"
   },
   {
    "duration": 5254,
    "start_time": "2023-06-21T06:13:02.779Z"
   },
   {
    "duration": 10,
    "start_time": "2023-06-21T06:13:08.035Z"
   },
   {
    "duration": 13,
    "start_time": "2023-06-21T06:13:08.047Z"
   },
   {
    "duration": 196,
    "start_time": "2023-06-21T06:13:08.063Z"
   },
   {
    "duration": 1547023,
    "start_time": "2023-06-21T06:13:08.263Z"
   },
   {
    "duration": 14,
    "start_time": "2023-06-21T06:38:55.289Z"
   },
   {
    "duration": 19,
    "start_time": "2023-06-21T06:38:55.304Z"
   },
   {
    "duration": 7,
    "start_time": "2023-06-21T06:38:55.325Z"
   },
   {
    "duration": 11,
    "start_time": "2023-06-21T06:38:55.334Z"
   },
   {
    "duration": 6,
    "start_time": "2023-06-21T06:38:55.347Z"
   },
   {
    "duration": 54,
    "start_time": "2023-06-21T06:38:55.356Z"
   },
   {
    "duration": 7,
    "start_time": "2023-06-21T06:38:55.411Z"
   },
   {
    "duration": 80,
    "start_time": "2023-06-21T06:38:55.420Z"
   },
   {
    "duration": 67,
    "start_time": "2023-06-21T06:38:55.502Z"
   },
   {
    "duration": 12,
    "start_time": "2023-06-21T06:38:55.575Z"
   },
   {
    "duration": 4,
    "start_time": "2023-06-21T06:38:55.592Z"
   },
   {
    "duration": 1765535,
    "start_time": "2023-06-21T06:38:55.597Z"
   },
   {
    "duration": 153162,
    "start_time": "2023-06-21T07:08:21.137Z"
   },
   {
    "duration": 691798,
    "start_time": "2023-06-21T07:10:54.301Z"
   },
   {
    "duration": 776525,
    "start_time": "2023-06-21T07:22:26.101Z"
   },
   {
    "duration": 246728,
    "start_time": "2023-06-21T07:35:22.636Z"
   },
   {
    "duration": 20,
    "start_time": "2023-06-21T07:39:29.370Z"
   }
  ],
  "kernelspec": {
   "display_name": "Python 3 (ipykernel)",
   "language": "python",
   "name": "python3"
  },
  "language_info": {
   "codemirror_mode": {
    "name": "ipython",
    "version": 3
   },
   "file_extension": ".py",
   "mimetype": "text/x-python",
   "name": "python",
   "nbconvert_exporter": "python",
   "pygments_lexer": "ipython3",
   "version": "3.11.3"
  },
  "toc": {
   "base_numbering": 1,
   "nav_menu": {},
   "number_sections": true,
   "sideBar": true,
   "skip_h1_title": true,
   "title_cell": "Содержание",
   "title_sidebar": "Contents",
   "toc_cell": true,
   "toc_position": {
    "height": "calc(100% - 180px)",
    "left": "10px",
    "top": "150px",
    "width": "302.391px"
   },
   "toc_section_display": true,
   "toc_window_display": false
  }
 },
 "nbformat": 4,
 "nbformat_minor": 2
}
